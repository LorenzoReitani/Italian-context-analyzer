{
  "cells": [
    {
      "cell_type": "markdown",
      "source": [
        "# How to train a NER to disambiguate homonyms with GPU\n",
        "\n",
        "In this in notebook I will create and train a LLM with the aim of disambiguating homonyms thanks to Named-entity recognition (NER). This project is specifically for the Italian language but is is easily modifiable to adapt to other languages. <br>\n",
        "Remember to activate GPU in the setting of colab!!!"
      ],
      "metadata": {
        "id": "KNVGwd7FnaKH"
      },
      "id": "KNVGwd7FnaKH"
    },
    {
      "cell_type": "markdown",
      "source": [
        "To get to the goal I will take advantage of one of cpaCy's pre-drawn models for natural language processing (https://spacy.io/usage/spacy-101)"
      ],
      "metadata": {
        "id": "SdIwrtmxppLc"
      },
      "id": "SdIwrtmxppLc"
    },
    {
      "cell_type": "code",
      "source": [
        "#let's install all the necessary for this project\n",
        "\n",
        "!pip install -U pip setuptools wheel\n",
        "!pip install -U spacy[cuda100]\n",
        "!pip install -U spacy-transformers\n",
        "!python -m spacy download it_core_news_md\n",
        "import spacy\n",
        "import spacy_transformers\n",
        "from spacy.tokens import DocBin\n",
        "\n",
        "#the following command will load an istance of the pre trained model to do natural language processing\n",
        "nlp = spacy.load(\"it_core_news_md\")"
      ],
      "metadata": {
        "colab": {
          "base_uri": "https://localhost:8080/"
        },
        "id": "xhm9zM_ffaBc",
        "outputId": "eea1c108-a366-4835-f561-64a448d088eb"
      },
      "execution_count": null,
      "outputs": [
        {
          "output_type": "stream",
          "name": "stdout",
          "text": [
            "Requirement already satisfied: pip in /usr/local/lib/python3.10/dist-packages (24.1.1)\n",
            "Requirement already satisfied: setuptools in /usr/local/lib/python3.10/dist-packages (70.2.0)\n",
            "Requirement already satisfied: wheel in /usr/local/lib/python3.10/dist-packages (0.43.0)\n",
            "\u001b[33mWARNING: Running pip as the 'root' user can result in broken permissions and conflicting behaviour with the system package manager, possibly rendering your system unusable.It is recommended to use a virtual environment instead: https://pip.pypa.io/warnings/venv. Use the --root-user-action option if you know what you are doing and want to suppress this warning.\u001b[0m\u001b[33m\n",
            "\u001b[0mRequirement already satisfied: spacy[cuda100] in /usr/local/lib/python3.10/dist-packages (3.7.5)\n",
            "Requirement already satisfied: spacy-legacy<3.1.0,>=3.0.11 in /usr/local/lib/python3.10/dist-packages (from spacy[cuda100]) (3.0.12)\n",
            "Requirement already satisfied: spacy-loggers<2.0.0,>=1.0.0 in /usr/local/lib/python3.10/dist-packages (from spacy[cuda100]) (1.0.5)\n",
            "Requirement already satisfied: murmurhash<1.1.0,>=0.28.0 in /usr/local/lib/python3.10/dist-packages (from spacy[cuda100]) (1.0.10)\n",
            "Requirement already satisfied: cymem<2.1.0,>=2.0.2 in /usr/local/lib/python3.10/dist-packages (from spacy[cuda100]) (2.0.8)\n",
            "Requirement already satisfied: preshed<3.1.0,>=3.0.2 in /usr/local/lib/python3.10/dist-packages (from spacy[cuda100]) (3.0.9)\n",
            "Requirement already satisfied: thinc<8.3.0,>=8.2.2 in /usr/local/lib/python3.10/dist-packages (from spacy[cuda100]) (8.2.5)\n",
            "Requirement already satisfied: wasabi<1.2.0,>=0.9.1 in /usr/local/lib/python3.10/dist-packages (from spacy[cuda100]) (1.1.3)\n",
            "Requirement already satisfied: srsly<3.0.0,>=2.4.3 in /usr/local/lib/python3.10/dist-packages (from spacy[cuda100]) (2.4.8)\n",
            "Requirement already satisfied: catalogue<2.1.0,>=2.0.6 in /usr/local/lib/python3.10/dist-packages (from spacy[cuda100]) (2.0.10)\n",
            "Requirement already satisfied: weasel<0.5.0,>=0.1.0 in /usr/local/lib/python3.10/dist-packages (from spacy[cuda100]) (0.4.1)\n",
            "Requirement already satisfied: typer<1.0.0,>=0.3.0 in /usr/local/lib/python3.10/dist-packages (from spacy[cuda100]) (0.12.3)\n",
            "Requirement already satisfied: tqdm<5.0.0,>=4.38.0 in /usr/local/lib/python3.10/dist-packages (from spacy[cuda100]) (4.66.4)\n",
            "Requirement already satisfied: requests<3.0.0,>=2.13.0 in /usr/local/lib/python3.10/dist-packages (from spacy[cuda100]) (2.31.0)\n",
            "Requirement already satisfied: pydantic!=1.8,!=1.8.1,<3.0.0,>=1.7.4 in /usr/local/lib/python3.10/dist-packages (from spacy[cuda100]) (2.8.0)\n",
            "Requirement already satisfied: jinja2 in /usr/local/lib/python3.10/dist-packages (from spacy[cuda100]) (3.1.4)\n",
            "Requirement already satisfied: setuptools in /usr/local/lib/python3.10/dist-packages (from spacy[cuda100]) (70.2.0)\n",
            "Requirement already satisfied: packaging>=20.0 in /usr/local/lib/python3.10/dist-packages (from spacy[cuda100]) (24.1)\n",
            "Requirement already satisfied: langcodes<4.0.0,>=3.2.0 in /usr/local/lib/python3.10/dist-packages (from spacy[cuda100]) (3.4.0)\n",
            "Requirement already satisfied: numpy>=1.19.0 in /usr/local/lib/python3.10/dist-packages (from spacy[cuda100]) (1.25.2)\n",
            "INFO: pip is looking at multiple versions of spacy[cuda100] to determine which version is compatible with other requirements. This could take a while.\n",
            "Collecting spacy[cuda100]\n",
            "  Using cached spacy-3.7.5-cp310-cp310-manylinux_2_17_x86_64.manylinux2014_x86_64.whl.metadata (27 kB)\n",
            "  Using cached spacy-3.7.4-cp310-cp310-manylinux_2_17_x86_64.manylinux2014_x86_64.whl.metadata (27 kB)\n",
            "Collecting weasel<0.4.0,>=0.1.0 (from spacy[cuda100])\n",
            "  Using cached weasel-0.3.4-py3-none-any.whl.metadata (4.7 kB)\n",
            "Collecting typer<0.10.0,>=0.3.0 (from spacy[cuda100])\n",
            "  Using cached typer-0.9.4-py3-none-any.whl.metadata (14 kB)\n",
            "Collecting smart-open<7.0.0,>=5.2.1 (from spacy[cuda100])\n",
            "  Using cached smart_open-6.4.0-py3-none-any.whl.metadata (21 kB)\n",
            "Collecting spacy[cuda100]\n",
            "  Using cached spacy-3.7.2-cp310-cp310-manylinux_2_17_x86_64.manylinux2014_x86_64.whl.metadata (25 kB)\n",
            "  Using cached spacy-3.7.1-cp310-cp310-manylinux_2_17_x86_64.manylinux2014_x86_64.whl.metadata (25 kB)\n",
            "Collecting pathy>=0.10.0 (from spacy[cuda100])\n",
            "  Using cached pathy-0.11.0-py3-none-any.whl.metadata (16 kB)\n",
            "INFO: pip is still looking at multiple versions of spacy[cuda100] to determine which version is compatible with other requirements. This could take a while.\n",
            "Collecting spacy[cuda100]\n",
            "  Using cached spacy-3.7.0-cp310-cp310-manylinux_2_17_x86_64.manylinux2014_x86_64.whl.metadata (25 kB)\n",
            "  Using cached spacy-3.6.1-cp310-cp310-manylinux_2_17_x86_64.manylinux2014_x86_64.whl.metadata (25 kB)\n",
            "Collecting thinc<8.2.0,>=8.1.8 (from spacy[cuda100])\n",
            "  Using cached thinc-8.1.12-cp310-cp310-manylinux_2_17_x86_64.manylinux2014_x86_64.whl.metadata (15 kB)\n",
            "INFO: This is taking longer than usual. You might need to provide the dependency resolver with stricter constraints to reduce runtime. See https://pip.pypa.io/warnings/backtracking for guidance. If you want to abort this run, press Ctrl + C.\n",
            "Collecting spacy[cuda100]\n",
            "  Using cached spacy-3.6.0-cp310-cp310-manylinux_2_17_x86_64.manylinux2014_x86_64.whl.metadata (19 kB)\n",
            "Collecting pydantic!=1.8,!=1.8.1,<1.11.0,>=1.7.4 (from spacy[cuda100])\n",
            "  Using cached pydantic-1.10.17-cp310-cp310-manylinux_2_17_x86_64.manylinux2014_x86_64.whl.metadata (151 kB)\n",
            "Collecting spacy[cuda100]\n",
            "  Using cached spacy-3.5.4-cp310-cp310-manylinux_2_17_x86_64.manylinux2014_x86_64.whl.metadata (25 kB)\n",
            "  Using cached spacy-3.5.3-cp310-cp310-manylinux_2_17_x86_64.manylinux2014_x86_64.whl.metadata (25 kB)\n",
            "Collecting typer<0.8.0,>=0.3.0 (from spacy[cuda100])\n",
            "  Using cached typer-0.7.0-py3-none-any.whl.metadata (17 kB)\n",
            "Collecting spacy[cuda100]\n",
            "  Using cached spacy-3.5.2-cp310-cp310-manylinux_2_17_x86_64.manylinux2014_x86_64.whl.metadata (25 kB)\n",
            "  Using cached spacy-3.5.1-cp310-cp310-manylinux_2_17_x86_64.manylinux2014_x86_64.whl.metadata (25 kB)\n",
            "  Using cached spacy-3.5.0-cp310-cp310-manylinux_2_17_x86_64.manylinux2014_x86_64.whl.metadata (25 kB)\n",
            "  Using cached spacy-3.4.4-cp310-cp310-manylinux_2_17_x86_64.manylinux2014_x86_64.whl.metadata (24 kB)\n",
            "Collecting wasabi<1.1.0,>=0.9.1 (from spacy[cuda100])\n",
            "  Using cached wasabi-0.10.1-py3-none-any.whl.metadata (28 kB)\n",
            "Collecting spacy[cuda100]\n",
            "  Using cached spacy-3.4.3-cp310-cp310-manylinux_2_17_x86_64.manylinux2014_x86_64.whl.metadata (24 kB)\n",
            "  Using cached spacy-3.4.2-cp310-cp310-manylinux_2_17_x86_64.manylinux2014_x86_64.whl.metadata (24 kB)\n",
            "Collecting typer<0.5.0,>=0.3.0 (from spacy[cuda100])\n",
            "  Using cached typer-0.4.2-py3-none-any.whl.metadata (12 kB)\n",
            "Collecting spacy[cuda100]\n",
            "  Using cached spacy-3.4.1-cp310-cp310-manylinux_2_17_x86_64.manylinux2014_x86_64.whl.metadata (24 kB)\n",
            "Collecting pydantic!=1.8,!=1.8.1,<1.10.0,>=1.7.4 (from spacy[cuda100])\n",
            "  Using cached pydantic-1.9.2-cp310-cp310-manylinux_2_17_x86_64.manylinux2014_x86_64.whl.metadata (127 kB)\n",
            "Collecting spacy[cuda100]\n",
            "  Using cached spacy-3.4.0-cp310-cp310-manylinux_2_17_x86_64.manylinux2014_x86_64.whl.metadata (24 kB)\n",
            "  Using cached spacy-3.3.3-cp310-cp310-manylinux_2_17_x86_64.manylinux2014_x86_64.whl.metadata (23 kB)\n",
            "Collecting thinc<8.1.0,>=8.0.14 (from spacy[cuda100])\n",
            "  Using cached thinc-8.0.17-cp310-cp310-manylinux_2_17_x86_64.manylinux2014_x86_64.whl.metadata (14 kB)\n",
            "Requirement already satisfied: blis<0.8.0,>=0.4.0 in /usr/local/lib/python3.10/dist-packages (from spacy[cuda100]) (0.7.11)\n",
            "Collecting pydantic!=1.8,!=1.8.1,<1.9.0,>=1.7.4 (from spacy[cuda100])\n",
            "  Using cached pydantic-1.8.2-py3-none-any.whl.metadata (103 kB)\n",
            "Collecting typing-extensions<4.6.0,>=3.7.4.1 (from spacy[cuda100])\n",
            "  Using cached typing_extensions-4.5.0-py3-none-any.whl.metadata (8.5 kB)\n",
            "Collecting spacy[cuda100]\n",
            "  Using cached spacy-3.3.2-cp310-cp310-manylinux_2_17_x86_64.manylinux2014_x86_64.whl.metadata (23 kB)\n",
            "  Using cached spacy-3.3.1-cp310-cp310-manylinux_2_17_x86_64.manylinux2014_x86_64.whl.metadata (23 kB)\n",
            "  Using cached spacy-3.3.0-cp310-cp310-manylinux_2_17_x86_64.manylinux2014_x86_64.whl.metadata (23 kB)\n",
            "  Using cached spacy-3.2.6-cp310-cp310-manylinux_2_17_x86_64.manylinux2014_x86_64.whl.metadata (23 kB)\n",
            "  Using cached spacy-3.2.5-cp310-cp310-manylinux_2_17_x86_64.manylinux2014_x86_64.whl.metadata (23 kB)\n",
            "  Using cached spacy-3.2.4-cp310-cp310-manylinux_2_17_x86_64.manylinux2014_x86_64.whl.metadata (23 kB)\n",
            "Collecting click<8.1.0 (from spacy[cuda100])\n",
            "  Using cached click-8.0.4-py3-none-any.whl.metadata (3.2 kB)\n",
            "Collecting spacy[cuda100]\n",
            "  Using cached spacy-3.2.3-cp310-cp310-manylinux_2_17_x86_64.manylinux2014_x86_64.whl.metadata (23 kB)\n",
            "  Using cached spacy-3.2.2-cp310-cp310-manylinux_2_17_x86_64.manylinux2014_x86_64.whl.metadata (23 kB)\n",
            "  Using cached spacy-3.2.1-cp310-cp310-manylinux_2_17_x86_64.manylinux2014_x86_64.whl.metadata (17 kB)\n",
            "  Using cached spacy-3.2.0-cp310-cp310-manylinux_2_17_x86_64.manylinux2014_x86_64.whl.metadata (17 kB)\n",
            "  Using cached spacy-3.1.7-cp310-cp310-manylinux_2_17_x86_64.manylinux2014_x86_64.whl.metadata (17 kB)\n",
            "  Using cached spacy-3.1.6-cp310-cp310-manylinux_2_17_x86_64.manylinux2014_x86_64.whl.metadata (17 kB)\n",
            "  Using cached spacy-3.1.5-cp310-cp310-manylinux_2_17_x86_64.manylinux2014_x86_64.whl.metadata (17 kB)\n",
            "  Using cached spacy-3.1.4-cp310-cp310-manylinux_2_17_x86_64.manylinux2014_x86_64.whl.metadata (17 kB)\n",
            "  Using cached spacy-3.1.3.tar.gz (1.0 MB)\n",
            "  Installing build dependencies ... \u001b[?25l\u001b[?25hdone\n",
            "  Getting requirements to build wheel ... \u001b[?25l\u001b[?25hdone\n",
            "  Preparing metadata (pyproject.toml) ... \u001b[?25l\u001b[?25hdone\n",
            "  Using cached spacy-3.1.2.tar.gz (1.0 MB)\n",
            "  Installing build dependencies ... \u001b[?25l\u001b[?25hdone\n",
            "  Getting requirements to build wheel ... \u001b[?25l\u001b[?25hdone\n",
            "  Preparing metadata (pyproject.toml) ... \u001b[?25l\u001b[?25hdone\n",
            "Collecting typer<0.4.0,>=0.3.0 (from spacy[cuda100])\n",
            "  Downloading typer-0.3.2-py3-none-any.whl.metadata (12 kB)\n",
            "Collecting spacy[cuda100]\n",
            "  Downloading spacy-3.1.1.tar.gz (1.0 MB)\n",
            "\u001b[2K     \u001b[90m━━━━━━━━━━━━━━━━━━━━━━━━━━━━━━━━━━━━━━━━\u001b[0m \u001b[32m1.0/1.0 MB\u001b[0m \u001b[31m44.3 MB/s\u001b[0m eta \u001b[36m0:00:00\u001b[0m\n",
            "\u001b[?25h  Installing build dependencies ... \u001b[?25l\u001b[?25hdone\n",
            "  Getting requirements to build wheel ... \u001b[?25l\u001b[?25hdone\n",
            "  Preparing metadata (pyproject.toml) ... \u001b[?25l\u001b[?25hdone\n",
            "  Downloading spacy-3.1.0.tar.gz (1.0 MB)\n",
            "\u001b[2K     \u001b[90m━━━━━━━━━━━━━━━━━━━━━━━━━━━━━━━━━━━━━━━━\u001b[0m \u001b[32m1.0/1.0 MB\u001b[0m \u001b[31m51.2 MB/s\u001b[0m eta \u001b[36m0:00:00\u001b[0m\n",
            "\u001b[?25h  Installing build dependencies ... \u001b[?25l\u001b[?25hdone\n",
            "  Getting requirements to build wheel ... \u001b[?25l\u001b[?25hdone\n",
            "  Preparing metadata (pyproject.toml) ... \u001b[?25l\u001b[?25hdone\n",
            "  Downloading spacy-3.0.9-cp310-cp310-manylinux_2_17_x86_64.manylinux2014_x86_64.whl.metadata (17 kB)\n",
            "  Downloading spacy-3.0.8-cp310-cp310-manylinux_2_17_x86_64.manylinux2014_x86_64.whl.metadata (17 kB)\n",
            "  Downloading spacy-3.0.7.tar.gz (987 kB)\n",
            "\u001b[2K     \u001b[90m━━━━━━━━━━━━━━━━━━━━━━━━━━━━━━━━━━━━━━━━\u001b[0m \u001b[32m988.0/988.0 kB\u001b[0m \u001b[31m35.8 MB/s\u001b[0m eta \u001b[36m0:00:00\u001b[0m\n",
            "\u001b[?25h  Installing build dependencies ... \u001b[?25l\u001b[?25hdone\n",
            "  Getting requirements to build wheel ... \u001b[?25l\u001b[?25hdone\n",
            "  Preparing metadata (pyproject.toml) ... \u001b[?25l\u001b[?25hdone\n",
            "  Downloading spacy-3.0.6.tar.gz (7.1 MB)\n",
            "\u001b[2K     \u001b[90m━━━━━━━━━━━━━━━━━━━━━━━━━━━━━━━━━━━━━━━━\u001b[0m \u001b[32m7.1/7.1 MB\u001b[0m \u001b[31m18.3 MB/s\u001b[0m eta \u001b[36m0:00:00\u001b[0m\n",
            "\u001b[?25h  Installing build dependencies ... \u001b[?25l\u001b[?25hdone\n",
            "  \u001b[1;31merror\u001b[0m: \u001b[1msubprocess-exited-with-error\u001b[0m\n",
            "  \n",
            "  \u001b[31m×\u001b[0m \u001b[32mGetting requirements to build wheel\u001b[0m did not run successfully.\n",
            "  \u001b[31m│\u001b[0m exit code: \u001b[1;36m1\u001b[0m\n",
            "  \u001b[31m╰─>\u001b[0m See above for output.\n",
            "  \n",
            "  \u001b[1;35mnote\u001b[0m: This error originates from a subprocess, and is likely not a problem with pip.\n",
            "  Getting requirements to build wheel ... \u001b[?25l\u001b[?25herror\n",
            "\u001b[1;31merror\u001b[0m: \u001b[1msubprocess-exited-with-error\u001b[0m\n",
            "\n",
            "\u001b[31m×\u001b[0m \u001b[32mGetting requirements to build wheel\u001b[0m did not run successfully.\n",
            "\u001b[31m│\u001b[0m exit code: \u001b[1;36m1\u001b[0m\n",
            "\u001b[31m╰─>\u001b[0m See above for output.\n",
            "\n",
            "\u001b[1;35mnote\u001b[0m: This error originates from a subprocess, and is likely not a problem with pip.\n",
            "Collecting spacy-transformers\n",
            "  Using cached spacy_transformers-1.3.5-cp310-cp310-manylinux_2_17_x86_64.manylinux2014_x86_64.whl.metadata (7.0 kB)\n",
            "Requirement already satisfied: spacy<4.1.0,>=3.5.0 in /usr/local/lib/python3.10/dist-packages (from spacy-transformers) (3.7.5)\n",
            "Collecting transformers<4.37.0,>=3.4.0 (from spacy-transformers)\n",
            "  Using cached transformers-4.36.2-py3-none-any.whl.metadata (126 kB)\n",
            "Requirement already satisfied: torch>=1.8.0 in /usr/local/lib/python3.10/dist-packages (from spacy-transformers) (2.3.0+cu121)\n",
            "Requirement already satisfied: srsly<3.0.0,>=2.4.0 in /usr/local/lib/python3.10/dist-packages (from spacy-transformers) (2.4.8)\n",
            "Collecting spacy-alignments<1.0.0,>=0.7.2 (from spacy-transformers)\n",
            "  Using cached spacy_alignments-0.9.1-cp310-cp310-manylinux_2_17_x86_64.manylinux2014_x86_64.whl.metadata (2.7 kB)\n",
            "Requirement already satisfied: numpy>=1.19.0 in /usr/local/lib/python3.10/dist-packages (from spacy-transformers) (1.25.2)\n",
            "Requirement already satisfied: spacy-legacy<3.1.0,>=3.0.11 in /usr/local/lib/python3.10/dist-packages (from spacy<4.1.0,>=3.5.0->spacy-transformers) (3.0.12)\n",
            "Requirement already satisfied: spacy-loggers<2.0.0,>=1.0.0 in /usr/local/lib/python3.10/dist-packages (from spacy<4.1.0,>=3.5.0->spacy-transformers) (1.0.5)\n",
            "Requirement already satisfied: murmurhash<1.1.0,>=0.28.0 in /usr/local/lib/python3.10/dist-packages (from spacy<4.1.0,>=3.5.0->spacy-transformers) (1.0.10)\n",
            "Requirement already satisfied: cymem<2.1.0,>=2.0.2 in /usr/local/lib/python3.10/dist-packages (from spacy<4.1.0,>=3.5.0->spacy-transformers) (2.0.8)\n",
            "Requirement already satisfied: preshed<3.1.0,>=3.0.2 in /usr/local/lib/python3.10/dist-packages (from spacy<4.1.0,>=3.5.0->spacy-transformers) (3.0.9)\n",
            "Requirement already satisfied: thinc<8.3.0,>=8.2.2 in /usr/local/lib/python3.10/dist-packages (from spacy<4.1.0,>=3.5.0->spacy-transformers) (8.2.5)\n",
            "Requirement already satisfied: wasabi<1.2.0,>=0.9.1 in /usr/local/lib/python3.10/dist-packages (from spacy<4.1.0,>=3.5.0->spacy-transformers) (1.1.3)\n",
            "Requirement already satisfied: catalogue<2.1.0,>=2.0.6 in /usr/local/lib/python3.10/dist-packages (from spacy<4.1.0,>=3.5.0->spacy-transformers) (2.0.10)\n",
            "Requirement already satisfied: weasel<0.5.0,>=0.1.0 in /usr/local/lib/python3.10/dist-packages (from spacy<4.1.0,>=3.5.0->spacy-transformers) (0.4.1)\n",
            "Requirement already satisfied: typer<1.0.0,>=0.3.0 in /usr/local/lib/python3.10/dist-packages (from spacy<4.1.0,>=3.5.0->spacy-transformers) (0.12.3)\n",
            "Requirement already satisfied: tqdm<5.0.0,>=4.38.0 in /usr/local/lib/python3.10/dist-packages (from spacy<4.1.0,>=3.5.0->spacy-transformers) (4.66.4)\n",
            "Requirement already satisfied: requests<3.0.0,>=2.13.0 in /usr/local/lib/python3.10/dist-packages (from spacy<4.1.0,>=3.5.0->spacy-transformers) (2.31.0)\n",
            "Requirement already satisfied: pydantic!=1.8,!=1.8.1,<3.0.0,>=1.7.4 in /usr/local/lib/python3.10/dist-packages (from spacy<4.1.0,>=3.5.0->spacy-transformers) (2.8.0)\n",
            "Requirement already satisfied: jinja2 in /usr/local/lib/python3.10/dist-packages (from spacy<4.1.0,>=3.5.0->spacy-transformers) (3.1.4)\n",
            "Requirement already satisfied: setuptools in /usr/local/lib/python3.10/dist-packages (from spacy<4.1.0,>=3.5.0->spacy-transformers) (70.2.0)\n",
            "Requirement already satisfied: packaging>=20.0 in /usr/local/lib/python3.10/dist-packages (from spacy<4.1.0,>=3.5.0->spacy-transformers) (24.1)\n",
            "Requirement already satisfied: langcodes<4.0.0,>=3.2.0 in /usr/local/lib/python3.10/dist-packages (from spacy<4.1.0,>=3.5.0->spacy-transformers) (3.4.0)\n",
            "Requirement already satisfied: filelock in /usr/local/lib/python3.10/dist-packages (from torch>=1.8.0->spacy-transformers) (3.15.4)\n",
            "Requirement already satisfied: typing-extensions>=4.8.0 in /usr/local/lib/python3.10/dist-packages (from torch>=1.8.0->spacy-transformers) (4.12.2)\n",
            "Requirement already satisfied: sympy in /usr/local/lib/python3.10/dist-packages (from torch>=1.8.0->spacy-transformers) (1.12.1)\n",
            "Requirement already satisfied: networkx in /usr/local/lib/python3.10/dist-packages (from torch>=1.8.0->spacy-transformers) (3.3)\n",
            "Requirement already satisfied: fsspec in /usr/local/lib/python3.10/dist-packages (from torch>=1.8.0->spacy-transformers) (2023.6.0)\n",
            "Collecting nvidia-cuda-nvrtc-cu12==12.1.105 (from torch>=1.8.0->spacy-transformers)\n",
            "  Using cached nvidia_cuda_nvrtc_cu12-12.1.105-py3-none-manylinux1_x86_64.whl.metadata (1.5 kB)\n",
            "Collecting nvidia-cuda-runtime-cu12==12.1.105 (from torch>=1.8.0->spacy-transformers)\n",
            "  Using cached nvidia_cuda_runtime_cu12-12.1.105-py3-none-manylinux1_x86_64.whl.metadata (1.5 kB)\n",
            "Collecting nvidia-cuda-cupti-cu12==12.1.105 (from torch>=1.8.0->spacy-transformers)\n",
            "  Using cached nvidia_cuda_cupti_cu12-12.1.105-py3-none-manylinux1_x86_64.whl.metadata (1.6 kB)\n",
            "Collecting nvidia-cudnn-cu12==8.9.2.26 (from torch>=1.8.0->spacy-transformers)\n",
            "  Using cached nvidia_cudnn_cu12-8.9.2.26-py3-none-manylinux1_x86_64.whl.metadata (1.6 kB)\n",
            "Collecting nvidia-cublas-cu12==12.1.3.1 (from torch>=1.8.0->spacy-transformers)\n",
            "  Using cached nvidia_cublas_cu12-12.1.3.1-py3-none-manylinux1_x86_64.whl.metadata (1.5 kB)\n",
            "Collecting nvidia-cufft-cu12==11.0.2.54 (from torch>=1.8.0->spacy-transformers)\n",
            "  Using cached nvidia_cufft_cu12-11.0.2.54-py3-none-manylinux1_x86_64.whl.metadata (1.5 kB)\n",
            "Collecting nvidia-curand-cu12==10.3.2.106 (from torch>=1.8.0->spacy-transformers)\n",
            "  Using cached nvidia_curand_cu12-10.3.2.106-py3-none-manylinux1_x86_64.whl.metadata (1.5 kB)\n",
            "Collecting nvidia-cusolver-cu12==11.4.5.107 (from torch>=1.8.0->spacy-transformers)\n",
            "  Using cached nvidia_cusolver_cu12-11.4.5.107-py3-none-manylinux1_x86_64.whl.metadata (1.6 kB)\n",
            "Collecting nvidia-cusparse-cu12==12.1.0.106 (from torch>=1.8.0->spacy-transformers)\n",
            "  Using cached nvidia_cusparse_cu12-12.1.0.106-py3-none-manylinux1_x86_64.whl.metadata (1.6 kB)\n",
            "Collecting nvidia-nccl-cu12==2.20.5 (from torch>=1.8.0->spacy-transformers)\n",
            "  Using cached nvidia_nccl_cu12-2.20.5-py3-none-manylinux2014_x86_64.whl.metadata (1.8 kB)\n",
            "Collecting nvidia-nvtx-cu12==12.1.105 (from torch>=1.8.0->spacy-transformers)\n",
            "  Using cached nvidia_nvtx_cu12-12.1.105-py3-none-manylinux1_x86_64.whl.metadata (1.7 kB)\n",
            "Requirement already satisfied: triton==2.3.0 in /usr/local/lib/python3.10/dist-packages (from torch>=1.8.0->spacy-transformers) (2.3.0)\n",
            "Collecting nvidia-nvjitlink-cu12 (from nvidia-cusolver-cu12==11.4.5.107->torch>=1.8.0->spacy-transformers)\n",
            "  Using cached nvidia_nvjitlink_cu12-12.5.82-py3-none-manylinux2014_x86_64.whl.metadata (1.5 kB)\n",
            "Requirement already satisfied: huggingface-hub<1.0,>=0.19.3 in /usr/local/lib/python3.10/dist-packages (from transformers<4.37.0,>=3.4.0->spacy-transformers) (0.23.4)\n",
            "Requirement already satisfied: pyyaml>=5.1 in /usr/local/lib/python3.10/dist-packages (from transformers<4.37.0,>=3.4.0->spacy-transformers) (6.0.1)\n",
            "Requirement already satisfied: regex!=2019.12.17 in /usr/local/lib/python3.10/dist-packages (from transformers<4.37.0,>=3.4.0->spacy-transformers) (2024.5.15)\n",
            "Collecting tokenizers<0.19,>=0.14 (from transformers<4.37.0,>=3.4.0->spacy-transformers)\n",
            "  Using cached tokenizers-0.15.2-cp310-cp310-manylinux_2_17_x86_64.manylinux2014_x86_64.whl.metadata (6.7 kB)\n",
            "Requirement already satisfied: safetensors>=0.3.1 in /usr/local/lib/python3.10/dist-packages (from transformers<4.37.0,>=3.4.0->spacy-transformers) (0.4.3)\n",
            "Requirement already satisfied: language-data>=1.2 in /usr/local/lib/python3.10/dist-packages (from langcodes<4.0.0,>=3.2.0->spacy<4.1.0,>=3.5.0->spacy-transformers) (1.2.0)\n",
            "Requirement already satisfied: annotated-types>=0.4.0 in /usr/local/lib/python3.10/dist-packages (from pydantic!=1.8,!=1.8.1,<3.0.0,>=1.7.4->spacy<4.1.0,>=3.5.0->spacy-transformers) (0.7.0)\n",
            "Requirement already satisfied: pydantic-core==2.20.0 in /usr/local/lib/python3.10/dist-packages (from pydantic!=1.8,!=1.8.1,<3.0.0,>=1.7.4->spacy<4.1.0,>=3.5.0->spacy-transformers) (2.20.0)\n",
            "Requirement already satisfied: charset-normalizer<4,>=2 in /usr/local/lib/python3.10/dist-packages (from requests<3.0.0,>=2.13.0->spacy<4.1.0,>=3.5.0->spacy-transformers) (3.3.2)\n",
            "Requirement already satisfied: idna<4,>=2.5 in /usr/local/lib/python3.10/dist-packages (from requests<3.0.0,>=2.13.0->spacy<4.1.0,>=3.5.0->spacy-transformers) (3.7)\n",
            "Requirement already satisfied: urllib3<3,>=1.21.1 in /usr/local/lib/python3.10/dist-packages (from requests<3.0.0,>=2.13.0->spacy<4.1.0,>=3.5.0->spacy-transformers) (2.0.7)\n",
            "Requirement already satisfied: certifi>=2017.4.17 in /usr/local/lib/python3.10/dist-packages (from requests<3.0.0,>=2.13.0->spacy<4.1.0,>=3.5.0->spacy-transformers) (2024.6.2)\n",
            "Requirement already satisfied: blis<0.8.0,>=0.7.8 in /usr/local/lib/python3.10/dist-packages (from thinc<8.3.0,>=8.2.2->spacy<4.1.0,>=3.5.0->spacy-transformers) (0.7.11)\n",
            "Requirement already satisfied: confection<1.0.0,>=0.0.1 in /usr/local/lib/python3.10/dist-packages (from thinc<8.3.0,>=8.2.2->spacy<4.1.0,>=3.5.0->spacy-transformers) (0.1.5)\n",
            "Requirement already satisfied: click>=8.0.0 in /usr/local/lib/python3.10/dist-packages (from typer<1.0.0,>=0.3.0->spacy<4.1.0,>=3.5.0->spacy-transformers) (8.1.7)\n",
            "Requirement already satisfied: shellingham>=1.3.0 in /usr/local/lib/python3.10/dist-packages (from typer<1.0.0,>=0.3.0->spacy<4.1.0,>=3.5.0->spacy-transformers) (1.5.4)\n",
            "Requirement already satisfied: rich>=10.11.0 in /usr/local/lib/python3.10/dist-packages (from typer<1.0.0,>=0.3.0->spacy<4.1.0,>=3.5.0->spacy-transformers) (13.7.1)\n",
            "Requirement already satisfied: cloudpathlib<1.0.0,>=0.7.0 in /usr/local/lib/python3.10/dist-packages (from weasel<0.5.0,>=0.1.0->spacy<4.1.0,>=3.5.0->spacy-transformers) (0.18.1)\n",
            "Requirement already satisfied: smart-open<8.0.0,>=5.2.1 in /usr/local/lib/python3.10/dist-packages (from weasel<0.5.0,>=0.1.0->spacy<4.1.0,>=3.5.0->spacy-transformers) (7.0.4)\n",
            "Requirement already satisfied: MarkupSafe>=2.0 in /usr/local/lib/python3.10/dist-packages (from jinja2->spacy<4.1.0,>=3.5.0->spacy-transformers) (2.1.5)\n",
            "Requirement already satisfied: mpmath<1.4.0,>=1.1.0 in /usr/local/lib/python3.10/dist-packages (from sympy->torch>=1.8.0->spacy-transformers) (1.3.0)\n",
            "Requirement already satisfied: marisa-trie>=0.7.7 in /usr/local/lib/python3.10/dist-packages (from language-data>=1.2->langcodes<4.0.0,>=3.2.0->spacy<4.1.0,>=3.5.0->spacy-transformers) (1.2.0)\n",
            "Requirement already satisfied: markdown-it-py>=2.2.0 in /usr/local/lib/python3.10/dist-packages (from rich>=10.11.0->typer<1.0.0,>=0.3.0->spacy<4.1.0,>=3.5.0->spacy-transformers) (3.0.0)\n",
            "Requirement already satisfied: pygments<3.0.0,>=2.13.0 in /usr/local/lib/python3.10/dist-packages (from rich>=10.11.0->typer<1.0.0,>=0.3.0->spacy<4.1.0,>=3.5.0->spacy-transformers) (2.16.1)\n",
            "Requirement already satisfied: wrapt in /usr/local/lib/python3.10/dist-packages (from smart-open<8.0.0,>=5.2.1->weasel<0.5.0,>=0.1.0->spacy<4.1.0,>=3.5.0->spacy-transformers) (1.14.1)\n",
            "Requirement already satisfied: mdurl~=0.1 in /usr/local/lib/python3.10/dist-packages (from markdown-it-py>=2.2.0->rich>=10.11.0->typer<1.0.0,>=0.3.0->spacy<4.1.0,>=3.5.0->spacy-transformers) (0.1.2)\n",
            "Using cached spacy_transformers-1.3.5-cp310-cp310-manylinux_2_17_x86_64.manylinux2014_x86_64.whl (197 kB)\n",
            "Downloading spacy_alignments-0.9.1-cp310-cp310-manylinux_2_17_x86_64.manylinux2014_x86_64.whl (313 kB)\n",
            "\u001b[2K   \u001b[90m━━━━━━━━━━━━━━━━━━━━━━━━━━━━━━━━━━━━━━━━\u001b[0m \u001b[32m314.0/314.0 kB\u001b[0m \u001b[31m16.7 MB/s\u001b[0m eta \u001b[36m0:00:00\u001b[0m\n",
            "\u001b[?25hDownloading nvidia_cublas_cu12-12.1.3.1-py3-none-manylinux1_x86_64.whl (410.6 MB)\n",
            "\u001b[2K   \u001b[90m━━━━━━━━━━━━━━━━━━━━━━━━━━━━━━━━━━━━━━━━\u001b[0m \u001b[32m410.6/410.6 MB\u001b[0m \u001b[31m1.3 MB/s\u001b[0m eta \u001b[36m0:00:00\u001b[0m\n",
            "\u001b[?25hDownloading nvidia_cuda_cupti_cu12-12.1.105-py3-none-manylinux1_x86_64.whl (14.1 MB)\n",
            "\u001b[2K   \u001b[90m━━━━━━━━━━━━━━━━━━━━━━━━━━━━━━━━━━━━━━━━\u001b[0m \u001b[32m14.1/14.1 MB\u001b[0m \u001b[31m88.2 MB/s\u001b[0m eta \u001b[36m0:00:00\u001b[0m\n",
            "\u001b[?25hDownloading nvidia_cuda_nvrtc_cu12-12.1.105-py3-none-manylinux1_x86_64.whl (23.7 MB)\n",
            "\u001b[2K   \u001b[90m━━━━━━━━━━━━━━━━━━━━━━━━━━━━━━━━━━━━━━━━\u001b[0m \u001b[32m23.7/23.7 MB\u001b[0m \u001b[31m82.9 MB/s\u001b[0m eta \u001b[36m0:00:00\u001b[0m\n",
            "\u001b[?25hDownloading nvidia_cuda_runtime_cu12-12.1.105-py3-none-manylinux1_x86_64.whl (823 kB)\n",
            "\u001b[2K   \u001b[90m━━━━━━━━━━━━━━━━━━━━━━━━━━━━━━━━━━━━━━━━\u001b[0m \u001b[32m823.6/823.6 kB\u001b[0m \u001b[31m52.5 MB/s\u001b[0m eta \u001b[36m0:00:00\u001b[0m\n",
            "\u001b[?25hDownloading nvidia_cudnn_cu12-8.9.2.26-py3-none-manylinux1_x86_64.whl (731.7 MB)\n",
            "\u001b[2K   \u001b[90m━━━━━━━━━━━━━━━━━━━━━━━━━━━━━━━━━━━━━━━━\u001b[0m \u001b[32m731.7/731.7 MB\u001b[0m \u001b[31m2.4 MB/s\u001b[0m eta \u001b[36m0:00:00\u001b[0m\n",
            "\u001b[?25hDownloading nvidia_cufft_cu12-11.0.2.54-py3-none-manylinux1_x86_64.whl (121.6 MB)\n",
            "\u001b[2K   \u001b[90m━━━━━━━━━━━━━━━━━━━━━━━━━━━━━━━━━━━━━━━━\u001b[0m \u001b[32m121.6/121.6 MB\u001b[0m \u001b[31m8.1 MB/s\u001b[0m eta \u001b[36m0:00:00\u001b[0m\n",
            "\u001b[?25hDownloading nvidia_curand_cu12-10.3.2.106-py3-none-manylinux1_x86_64.whl (56.5 MB)\n",
            "\u001b[2K   \u001b[90m━━━━━━━━━━━━━━━━━━━━━━━━━━━━━━━━━━━━━━━━\u001b[0m \u001b[32m56.5/56.5 MB\u001b[0m \u001b[31m13.5 MB/s\u001b[0m eta \u001b[36m0:00:00\u001b[0m\n",
            "\u001b[?25hDownloading nvidia_cusolver_cu12-11.4.5.107-py3-none-manylinux1_x86_64.whl (124.2 MB)\n",
            "\u001b[2K   \u001b[90m━━━━━━━━━━━━━━━━━━━━━━━━━━━━━━━━━━━━━━━━\u001b[0m \u001b[32m124.2/124.2 MB\u001b[0m \u001b[31m7.5 MB/s\u001b[0m eta \u001b[36m0:00:00\u001b[0m\n",
            "\u001b[?25hDownloading nvidia_cusparse_cu12-12.1.0.106-py3-none-manylinux1_x86_64.whl (196.0 MB)\n",
            "\u001b[2K   \u001b[90m━━━━━━━━━━━━━━━━━━━━━━━━━━━━━━━━━━━━━━━━\u001b[0m \u001b[32m196.0/196.0 MB\u001b[0m \u001b[31m6.1 MB/s\u001b[0m eta \u001b[36m0:00:00\u001b[0m\n",
            "\u001b[?25hDownloading nvidia_nccl_cu12-2.20.5-py3-none-manylinux2014_x86_64.whl (176.2 MB)\n",
            "\u001b[2K   \u001b[90m━━━━━━━━━━━━━━━━━━━━━━━━━━━━━━━━━━━━━━━━\u001b[0m \u001b[32m176.2/176.2 MB\u001b[0m \u001b[31m6.0 MB/s\u001b[0m eta \u001b[36m0:00:00\u001b[0m\n",
            "\u001b[?25hDownloading nvidia_nvtx_cu12-12.1.105-py3-none-manylinux1_x86_64.whl (99 kB)\n",
            "\u001b[2K   \u001b[90m━━━━━━━━━━━━━━━━━━━━━━━━━━━━━━━━━━━━━━━━\u001b[0m \u001b[32m99.1/99.1 kB\u001b[0m \u001b[31m9.0 MB/s\u001b[0m eta \u001b[36m0:00:00\u001b[0m\n",
            "\u001b[?25hDownloading transformers-4.36.2-py3-none-any.whl (8.2 MB)\n",
            "\u001b[2K   \u001b[90m━━━━━━━━━━━━━━━━━━━━━━━━━━━━━━━━━━━━━━━━\u001b[0m \u001b[32m8.2/8.2 MB\u001b[0m \u001b[31m44.6 MB/s\u001b[0m eta \u001b[36m0:00:00\u001b[0m\n",
            "\u001b[?25hDownloading tokenizers-0.15.2-cp310-cp310-manylinux_2_17_x86_64.manylinux2014_x86_64.whl (3.6 MB)\n",
            "\u001b[2K   \u001b[90m━━━━━━━━━━━━━━━━━━━━━━━━━━━━━━━━━━━━━━━━\u001b[0m \u001b[32m3.6/3.6 MB\u001b[0m \u001b[31m53.9 MB/s\u001b[0m eta \u001b[36m0:00:00\u001b[0m\n",
            "\u001b[?25hDownloading nvidia_nvjitlink_cu12-12.5.82-py3-none-manylinux2014_x86_64.whl (21.3 MB)\n",
            "\u001b[2K   \u001b[90m━━━━━━━━━━━━━━━━━━━━━━━━━━━━━━━━━━━━━━━━\u001b[0m \u001b[32m21.3/21.3 MB\u001b[0m \u001b[31m59.5 MB/s\u001b[0m eta \u001b[36m0:00:00\u001b[0m\n",
            "\u001b[?25hInstalling collected packages: spacy-alignments, nvidia-nvtx-cu12, nvidia-nvjitlink-cu12, nvidia-nccl-cu12, nvidia-curand-cu12, nvidia-cufft-cu12, nvidia-cuda-runtime-cu12, nvidia-cuda-nvrtc-cu12, nvidia-cuda-cupti-cu12, nvidia-cublas-cu12, nvidia-cusparse-cu12, nvidia-cudnn-cu12, tokenizers, nvidia-cusolver-cu12, transformers, spacy-transformers\n",
            "  Attempting uninstall: tokenizers\n",
            "    Found existing installation: tokenizers 0.19.1\n",
            "    Uninstalling tokenizers-0.19.1:\n",
            "      Successfully uninstalled tokenizers-0.19.1\n",
            "  Attempting uninstall: transformers\n",
            "    Found existing installation: transformers 4.41.2\n",
            "    Uninstalling transformers-4.41.2:\n",
            "      Successfully uninstalled transformers-4.41.2\n",
            "Successfully installed nvidia-cublas-cu12-12.1.3.1 nvidia-cuda-cupti-cu12-12.1.105 nvidia-cuda-nvrtc-cu12-12.1.105 nvidia-cuda-runtime-cu12-12.1.105 nvidia-cudnn-cu12-8.9.2.26 nvidia-cufft-cu12-11.0.2.54 nvidia-curand-cu12-10.3.2.106 nvidia-cusolver-cu12-11.4.5.107 nvidia-cusparse-cu12-12.1.0.106 nvidia-nccl-cu12-2.20.5 nvidia-nvjitlink-cu12-12.5.82 nvidia-nvtx-cu12-12.1.105 spacy-alignments-0.9.1 spacy-transformers-1.3.5 tokenizers-0.15.2 transformers-4.36.2\n",
            "\u001b[33mWARNING: Running pip as the 'root' user can result in broken permissions and conflicting behaviour with the system package manager, possibly rendering your system unusable.It is recommended to use a virtual environment instead: https://pip.pypa.io/warnings/venv. Use the --root-user-action option if you know what you are doing and want to suppress this warning.\u001b[0m\u001b[33m\n",
            "\u001b[0mCollecting it-core-news-md==3.7.0\n",
            "  Downloading https://github.com/explosion/spacy-models/releases/download/it_core_news_md-3.7.0/it_core_news_md-3.7.0-py3-none-any.whl (42.4 MB)\n",
            "\u001b[2K     \u001b[90m━━━━━━━━━━━━━━━━━━━━━━━━━━━━━━━━━━━━━━━━\u001b[0m \u001b[32m42.4/42.4 MB\u001b[0m \u001b[31m14.7 MB/s\u001b[0m eta \u001b[36m0:00:00\u001b[0m\n",
            "\u001b[?25hRequirement already satisfied: spacy<3.8.0,>=3.7.0 in /usr/local/lib/python3.10/dist-packages (from it-core-news-md==3.7.0) (3.7.5)\n",
            "Requirement already satisfied: spacy-legacy<3.1.0,>=3.0.11 in /usr/local/lib/python3.10/dist-packages (from spacy<3.8.0,>=3.7.0->it-core-news-md==3.7.0) (3.0.12)\n",
            "Requirement already satisfied: spacy-loggers<2.0.0,>=1.0.0 in /usr/local/lib/python3.10/dist-packages (from spacy<3.8.0,>=3.7.0->it-core-news-md==3.7.0) (1.0.5)\n",
            "Requirement already satisfied: murmurhash<1.1.0,>=0.28.0 in /usr/local/lib/python3.10/dist-packages (from spacy<3.8.0,>=3.7.0->it-core-news-md==3.7.0) (1.0.10)\n",
            "Requirement already satisfied: cymem<2.1.0,>=2.0.2 in /usr/local/lib/python3.10/dist-packages (from spacy<3.8.0,>=3.7.0->it-core-news-md==3.7.0) (2.0.8)\n",
            "Requirement already satisfied: preshed<3.1.0,>=3.0.2 in /usr/local/lib/python3.10/dist-packages (from spacy<3.8.0,>=3.7.0->it-core-news-md==3.7.0) (3.0.9)\n",
            "Requirement already satisfied: thinc<8.3.0,>=8.2.2 in /usr/local/lib/python3.10/dist-packages (from spacy<3.8.0,>=3.7.0->it-core-news-md==3.7.0) (8.2.5)\n",
            "Requirement already satisfied: wasabi<1.2.0,>=0.9.1 in /usr/local/lib/python3.10/dist-packages (from spacy<3.8.0,>=3.7.0->it-core-news-md==3.7.0) (1.1.3)\n",
            "Requirement already satisfied: srsly<3.0.0,>=2.4.3 in /usr/local/lib/python3.10/dist-packages (from spacy<3.8.0,>=3.7.0->it-core-news-md==3.7.0) (2.4.8)\n",
            "Requirement already satisfied: catalogue<2.1.0,>=2.0.6 in /usr/local/lib/python3.10/dist-packages (from spacy<3.8.0,>=3.7.0->it-core-news-md==3.7.0) (2.0.10)\n",
            "Requirement already satisfied: weasel<0.5.0,>=0.1.0 in /usr/local/lib/python3.10/dist-packages (from spacy<3.8.0,>=3.7.0->it-core-news-md==3.7.0) (0.4.1)\n",
            "Requirement already satisfied: typer<1.0.0,>=0.3.0 in /usr/local/lib/python3.10/dist-packages (from spacy<3.8.0,>=3.7.0->it-core-news-md==3.7.0) (0.12.3)\n",
            "Requirement already satisfied: tqdm<5.0.0,>=4.38.0 in /usr/local/lib/python3.10/dist-packages (from spacy<3.8.0,>=3.7.0->it-core-news-md==3.7.0) (4.66.4)\n",
            "Requirement already satisfied: requests<3.0.0,>=2.13.0 in /usr/local/lib/python3.10/dist-packages (from spacy<3.8.0,>=3.7.0->it-core-news-md==3.7.0) (2.31.0)\n",
            "Requirement already satisfied: pydantic!=1.8,!=1.8.1,<3.0.0,>=1.7.4 in /usr/local/lib/python3.10/dist-packages (from spacy<3.8.0,>=3.7.0->it-core-news-md==3.7.0) (2.8.0)\n",
            "Requirement already satisfied: jinja2 in /usr/local/lib/python3.10/dist-packages (from spacy<3.8.0,>=3.7.0->it-core-news-md==3.7.0) (3.1.4)\n",
            "Requirement already satisfied: setuptools in /usr/local/lib/python3.10/dist-packages (from spacy<3.8.0,>=3.7.0->it-core-news-md==3.7.0) (70.2.0)\n",
            "Requirement already satisfied: packaging>=20.0 in /usr/local/lib/python3.10/dist-packages (from spacy<3.8.0,>=3.7.0->it-core-news-md==3.7.0) (24.1)\n",
            "Requirement already satisfied: langcodes<4.0.0,>=3.2.0 in /usr/local/lib/python3.10/dist-packages (from spacy<3.8.0,>=3.7.0->it-core-news-md==3.7.0) (3.4.0)\n",
            "Requirement already satisfied: numpy>=1.19.0 in /usr/local/lib/python3.10/dist-packages (from spacy<3.8.0,>=3.7.0->it-core-news-md==3.7.0) (1.25.2)\n",
            "Requirement already satisfied: language-data>=1.2 in /usr/local/lib/python3.10/dist-packages (from langcodes<4.0.0,>=3.2.0->spacy<3.8.0,>=3.7.0->it-core-news-md==3.7.0) (1.2.0)\n",
            "Requirement already satisfied: annotated-types>=0.4.0 in /usr/local/lib/python3.10/dist-packages (from pydantic!=1.8,!=1.8.1,<3.0.0,>=1.7.4->spacy<3.8.0,>=3.7.0->it-core-news-md==3.7.0) (0.7.0)\n",
            "Requirement already satisfied: pydantic-core==2.20.0 in /usr/local/lib/python3.10/dist-packages (from pydantic!=1.8,!=1.8.1,<3.0.0,>=1.7.4->spacy<3.8.0,>=3.7.0->it-core-news-md==3.7.0) (2.20.0)\n",
            "Requirement already satisfied: typing-extensions>=4.6.1 in /usr/local/lib/python3.10/dist-packages (from pydantic!=1.8,!=1.8.1,<3.0.0,>=1.7.4->spacy<3.8.0,>=3.7.0->it-core-news-md==3.7.0) (4.12.2)\n",
            "Requirement already satisfied: charset-normalizer<4,>=2 in /usr/local/lib/python3.10/dist-packages (from requests<3.0.0,>=2.13.0->spacy<3.8.0,>=3.7.0->it-core-news-md==3.7.0) (3.3.2)\n",
            "Requirement already satisfied: idna<4,>=2.5 in /usr/local/lib/python3.10/dist-packages (from requests<3.0.0,>=2.13.0->spacy<3.8.0,>=3.7.0->it-core-news-md==3.7.0) (3.7)\n",
            "Requirement already satisfied: urllib3<3,>=1.21.1 in /usr/local/lib/python3.10/dist-packages (from requests<3.0.0,>=2.13.0->spacy<3.8.0,>=3.7.0->it-core-news-md==3.7.0) (2.0.7)\n",
            "Requirement already satisfied: certifi>=2017.4.17 in /usr/local/lib/python3.10/dist-packages (from requests<3.0.0,>=2.13.0->spacy<3.8.0,>=3.7.0->it-core-news-md==3.7.0) (2024.6.2)\n",
            "Requirement already satisfied: blis<0.8.0,>=0.7.8 in /usr/local/lib/python3.10/dist-packages (from thinc<8.3.0,>=8.2.2->spacy<3.8.0,>=3.7.0->it-core-news-md==3.7.0) (0.7.11)\n",
            "Requirement already satisfied: confection<1.0.0,>=0.0.1 in /usr/local/lib/python3.10/dist-packages (from thinc<8.3.0,>=8.2.2->spacy<3.8.0,>=3.7.0->it-core-news-md==3.7.0) (0.1.5)\n",
            "Requirement already satisfied: click>=8.0.0 in /usr/local/lib/python3.10/dist-packages (from typer<1.0.0,>=0.3.0->spacy<3.8.0,>=3.7.0->it-core-news-md==3.7.0) (8.1.7)\n",
            "Requirement already satisfied: shellingham>=1.3.0 in /usr/local/lib/python3.10/dist-packages (from typer<1.0.0,>=0.3.0->spacy<3.8.0,>=3.7.0->it-core-news-md==3.7.0) (1.5.4)\n",
            "Requirement already satisfied: rich>=10.11.0 in /usr/local/lib/python3.10/dist-packages (from typer<1.0.0,>=0.3.0->spacy<3.8.0,>=3.7.0->it-core-news-md==3.7.0) (13.7.1)\n",
            "Requirement already satisfied: cloudpathlib<1.0.0,>=0.7.0 in /usr/local/lib/python3.10/dist-packages (from weasel<0.5.0,>=0.1.0->spacy<3.8.0,>=3.7.0->it-core-news-md==3.7.0) (0.18.1)\n",
            "Requirement already satisfied: smart-open<8.0.0,>=5.2.1 in /usr/local/lib/python3.10/dist-packages (from weasel<0.5.0,>=0.1.0->spacy<3.8.0,>=3.7.0->it-core-news-md==3.7.0) (7.0.4)\n",
            "Requirement already satisfied: MarkupSafe>=2.0 in /usr/local/lib/python3.10/dist-packages (from jinja2->spacy<3.8.0,>=3.7.0->it-core-news-md==3.7.0) (2.1.5)\n",
            "Requirement already satisfied: marisa-trie>=0.7.7 in /usr/local/lib/python3.10/dist-packages (from language-data>=1.2->langcodes<4.0.0,>=3.2.0->spacy<3.8.0,>=3.7.0->it-core-news-md==3.7.0) (1.2.0)\n",
            "Requirement already satisfied: markdown-it-py>=2.2.0 in /usr/local/lib/python3.10/dist-packages (from rich>=10.11.0->typer<1.0.0,>=0.3.0->spacy<3.8.0,>=3.7.0->it-core-news-md==3.7.0) (3.0.0)\n",
            "Requirement already satisfied: pygments<3.0.0,>=2.13.0 in /usr/local/lib/python3.10/dist-packages (from rich>=10.11.0->typer<1.0.0,>=0.3.0->spacy<3.8.0,>=3.7.0->it-core-news-md==3.7.0) (2.16.1)\n",
            "Requirement already satisfied: wrapt in /usr/local/lib/python3.10/dist-packages (from smart-open<8.0.0,>=5.2.1->weasel<0.5.0,>=0.1.0->spacy<3.8.0,>=3.7.0->it-core-news-md==3.7.0) (1.14.1)\n",
            "Requirement already satisfied: mdurl~=0.1 in /usr/local/lib/python3.10/dist-packages (from markdown-it-py>=2.2.0->rich>=10.11.0->typer<1.0.0,>=0.3.0->spacy<3.8.0,>=3.7.0->it-core-news-md==3.7.0) (0.1.2)\n",
            "Installing collected packages: it-core-news-md\n",
            "Successfully installed it-core-news-md-3.7.0\n",
            "\u001b[33mWARNING: Running pip as the 'root' user can result in broken permissions and conflicting behaviour with the system package manager, possibly rendering your system unusable.It is recommended to use a virtual environment instead: https://pip.pypa.io/warnings/venv. Use the --root-user-action option if you know what you are doing and want to suppress this warning.\u001b[0m\u001b[33m\n",
            "\u001b[0m\u001b[38;5;2m✔ Download and installation successful\u001b[0m\n",
            "You can now load the package via spacy.load('it_core_news_md')\n",
            "\u001b[38;5;3m⚠ Restart to reload dependencies\u001b[0m\n",
            "If you are in a Jupyter or Colab notebook, you may need to restart Python in\n",
            "order to load all the package's dependencies. You can do this by selecting the\n",
            "'Restart kernel' or 'Restart runtime' option.\n"
          ]
        },
        {
          "output_type": "stream",
          "name": "stderr",
          "text": [
            "/usr/local/lib/python3.10/dist-packages/transformers/utils/generic.py:441: UserWarning: torch.utils._pytree._register_pytree_node is deprecated. Please use torch.utils._pytree.register_pytree_node instead.\n",
            "  _torch_pytree._register_pytree_node(\n",
            "/usr/local/lib/python3.10/dist-packages/transformers/utils/generic.py:309: UserWarning: torch.utils._pytree._register_pytree_node is deprecated. Please use torch.utils._pytree.register_pytree_node instead.\n",
            "  _torch_pytree._register_pytree_node(\n"
          ]
        }
      ],
      "id": "xhm9zM_ffaBc"
    },
    {
      "cell_type": "markdown",
      "source": [
        "In this specifc case I want to train the model to recognize when the word \"pesca\" (that in italian means both fishig and peach) is used in the context of sport or fruit. Therefore in the frase \"Luigi ha vinto una gara di pesca sul lago mangiando una pesca matura\" (Luigi won a lake fishing contest while eating a mature peach) it will have to recognize that the first \"pesca\" is the sport and the seconde one is the fruit"
      ],
      "metadata": {
        "id": "cHh5X35_rufg"
      },
      "id": "cHh5X35_rufg"
    },
    {
      "cell_type": "markdown",
      "source": [
        "To train the model we need a database with a lot of phrases where the word \"pesca\" is mapped to the correct context"
      ],
      "metadata": {
        "id": "6vZmmP-vu_xI"
      },
      "id": "6vZmmP-vu_xI"
    },
    {
      "cell_type": "code",
      "source": [
        "#lets create a list of phrases where pesca is a fruit\n",
        "training_string_frutto = [\"La composta di pesca è deliziosa spalmata su una fetta di pane tostato.\",\n",
        "                          \"Per il brunch, ho preparato una macedonia con pesche, mirtilli e kiwi.\",\n",
        "                          \"Le pesche grigliate con un filo di miele sono un contorno sorprendentemente buono per i piatti salati.\",\n",
        "                          \"Mi piace fare uno scrub viso con pesca e zucchero per una pelle morbida e luminosa.\",\n",
        "                          \"Ho aggiunto fette di pesca al mio yogurt per una colazione sana e saporita.\",\n",
        "                          \"La crema pasticcera alla pesca è una variante interessante per farcire i dolci.\",\n",
        "                          \"Durante l'estate, preparo sempre una crostata con pesche fresche del mercato.\",\n",
        "                          \"Il profumo della pesca matura in cucina riempie la casa di un'aroma delizioso.\",\n",
        "                          \"Le pesche essiccate sono uno snack dolce e naturale, perfetto da portare ovunque.\",\n",
        "                          \"Ho preparato una salsa alla pesca per accompagnare il pollo alla griglia e ha avuto un grande successo.\",\n",
        "                          \"In estate adoro mangiare una pesca fresca e succosa.\",\n",
        "                          \"Il profumo dolce della pesca matura mi ricorda le vacanze in campagna.\",\n",
        "                          \"Ho preparato una torta alla pesca per il dessert di stasera.\",\n",
        "                          \"L'albero di pesca nel nostro giardino ha prodotto molti frutti quest'anno.\",\n",
        "                          \"Il gelato alla pesca è uno dei miei gusti preferiti.\",\n",
        "                          \"Durante il mercato, ho comprato un cesto di pesche appena raccolte.\",\n",
        "                          \"La marmellata di pesca fatta in casa è perfetta per la colazione.\",\n",
        "                          \"Tagliare una pesca a metà e riempirla di yogurt è uno snack delizioso e sano.\",\n",
        "                          \"I succhi di frutta alla pesca sono molto rinfrescanti durante le giornate calde.\",\n",
        "                          \"La buccia vellutata della pesca è così invitante che è difficile resistere a mangiarne una subito.\",\n",
        "                          \"La crostata di pesca e mandorle è il dolce preferito della mia famiglia.\",\n",
        "                          \"Ho assaggiato una pesca nettarina ed era incredibilmente dolce.\",\n",
        "                          \"Le pesche sciroppate sono un ottimo modo per gustare questo frutto anche fuori stagione.\",\n",
        "                          \"Durante il picnic, abbiamo portato una cesta piena di pesche e altri frutti estivi.\",\n",
        "                          \"La pesca bianca ha un sapore più delicato rispetto alla pesca gialla.\",\n",
        "                          \"Un'insalata con rucola, formaggio di capra e fette di pesca è un piatto estivo perfetto.\",\n",
        "                          \"Le pesche arrostite con miele e cannella sono un dessert semplice ma delizioso.\",\n",
        "                          \"Ho comprato una crema per il viso alla pesca e ha un profumo meraviglioso.\",\n",
        "                          \"La salsa di pesche e peperoncino è un condimento interessante per carni grigliate.\",\n",
        "                          \"Il frullato di pesca e banana è una bevanda nutriente e rinfrescante.\",\n",
        "                          \"Il sorbetto alla pesca è un rinfrescante piacere estivo che non posso mai perdere.\",\n",
        "                          \"Le pesche noci sono croccanti e deliziose, perfette per uno snack veloce.\",\n",
        "                          \"Ho piantato un albero di pesca nel mio giardino e non vedo l'ora di raccogliere i frutti.\",\n",
        "                          \"Le pesche in agrodolce si abbinano splendidamente ai piatti di carne.\",\n",
        "                          \"Un centrifugato di pesca e menta è ideale per iniziare la giornata con energia.\",\n",
        "                          \"Aggiungere pezzi di pesca al gelato alla vaniglia crea un dessert semplice e gustoso.\",\n",
        "                          \"per merenda la cosa migliore è mangiare una pesca succosa\",\n",
        "                          \"Le pesche caramellate sono un'ottima guarnizione per i pancake della colazione.\",\n",
        "                          \"Ho trovato una ricetta di crumble alle pesche che è davvero irresistibile.\",\n",
        "                          \"La pesca piatta, o saturnina, ha una forma particolare e un sapore molto dolce.\",\n",
        "                          \"Un bicchiere di tè freddo alla pesca è perfetto per rinfrescarsi durante una giornata calda.\",\n",
        "                          \"Le pesche mature sono una delizia da gustare direttamente dall'albero.\",\n",
        "                          \"Ho comprato un cesto di pesche al mercato contadino per fare una marmellata.\",\n",
        "                          \"La pesca è uno dei frutti più versatili in cucina, si presta a dolci e piatti salati.\",\n",
        "                          \"I succhi di pesca sono una bevanda fresca e dissetante durante le giornate calde.\",\n",
        "                          \"Preparare una crostata con le pesche appena raccolte è un vero piacere.\",\n",
        "                          \"Le pesche bianche sono note per la loro polpa succosa e dolce.\",\n",
        "                          \"il mio frutto preferito è la pesca matura\",\n",
        "                          \"Con le pesche fresche si possono fare fantastiche insalate di frutta.\",\n",
        "                          \"La salsa di pesche è un accompagnamento delizioso per carni grigliate.\",\n",
        "                          \"Le pesche essiccate sono uno snack sano e gustoso da portare in giro.\",\n",
        "                          \"La polpa della pesca si presta alla preparazione di gelati e sorbetti.\",\n",
        "                          \"Ho piantato un albero di pesco nel mio giardino per avere frutta fresca ogni estate.\",\n",
        "                          \"La confettura di pesche fatte in casa è un regalo apprezzato da tutti.\",\n",
        "                          \"Le pesche sciroppate sono un ottimo modo per conservare il loro gusto anche fuori stagione.\",\n",
        "                          \"Il succo di pesca fresco è una meravigliosa aggiunta alla colazione.\",\n",
        "                          \"Le pesche mature profumano di estate e di dolcezza.\",\n",
        "                          \"Le pesche cotte al forno con un po' di cannella sono un dessert confortante.\",\n",
        "                          \"Il cesto di pesche mature profuma di estate e di dolcezza.\",\n",
        "                          \"Le pesche mature sono così gustose che ne voglio sempre di più.\",\n",
        "                          \"Le pesche mature sono un vero piacere per il palato.\",\n",
        "                          \"La torta di pesche e mandorle è il dolce perfetto per una merenda estiva.\",\n",
        "                          \"Le pesche mature racchiudono tutta la dolcezza dell'estate in un solo morso.\",\n",
        "                          \"Le pesche mature sono un'esplosione di gusto e freschezza.\",\n",
        "                          \"Ho raccolto una pesca dal mio albero e l'ho gustata appena colta.\",\n",
        "                          \"Le pesche mature sono dolci e succose, un vero piacere per il palato.\",\n",
        "                          \"La marmellata di pesca fatta in casa è perfetta per la colazione.\",\n",
        "                          \"La pesca è uno dei frutti estivi più amati per la sua dolcezza e succosità.\",\n",
        "                          \"Il gelato alla pesca è una deliziosa alternativa ai gusti più tradizionali.\",\n",
        "                          \"una pesca matura profuma di estate e di dolcezza.\",\n",
        "                          \"Le pesche appena raccolte sono così succose che è difficile mangiarne solo una.\",\n",
        "                          \"Le pesche sciroppate sono un ottimo modo per conservare il loro gusto anche fuori stagione.\",\n",
        "                          \"La torta di pesche e mandorle è un dolce tradizionale della mia regione.\",\n",
        "                          \"La polpa della pesca si scioglie in bocca con ogni morso, è irresistibile.\",\n",
        "                          \"Il succo di pesca fresco è una meravigliosa bevanda dissetante durante le giornate calde.\",\n",
        "                          \"Le pesche mature sono così gustose che ne voglio sempre di più.\",\n",
        "                          \"La salsa di pesche è un'ottima aggiunta per insaporire carni e piatti a base di pesce.\",\n",
        "                          \"Le pesche mature sono un vero piacere per il palato, un'esplosione di gusto e freschezza.\",\n",
        "                          \"Ho fatto una crostata con pesche e crema pasticcera, è divina!\",\n",
        "                          \"Le pesche mature sono così succose che è difficile mangiarne una sola.\",\n",
        "                          \"Il sorbetto alla pesca è un dessert fresco e leggero perfetto dopo un pasto abbondante.\",\n",
        "                          \"La confettura di pesche fatte in casa è un regalo apprezzato da tutti gli amanti della colazione.\",\n",
        "                          \"Le pesche mature racchiudono tutta la dolcezza dell'estate in un solo morso.\",\n",
        "                          \"Ho preparato uno smoothie con pesche, yogurt e miele, è diventato il mio preferito.\",\n",
        "                          \"Le fette di pesca cotte al forno con cannella e zucchero sono un dolce irresistibile.\",\n",
        "                          \"Le pesche mature sono così succose che è difficile mangiarne solo una.\",\n",
        "                          \"La torta di pesche e mandorle è un dessert perfetto da servire durante una cena speciale.\",\n",
        "                          \"Il profumo di pesca maturo riempie la cucina di un'aroma delizioso.\",\n",
        "                          \"Le pesche mature sono così gustose che è difficile resistere alla tentazione di mangiarne sempre di più.\",\n",
        "                          \"Ho preparato una crostata di pesche e crema pasticcera per festeggiare l'arrivo dell'estate.\",\n",
        "                          \"Le pesche mature sono così succose che ti fanno venire l'acquolina in bocca solo a guardarle.\",\n",
        "                          \"Il gelato alla pesca fatto in casa è un'ottima alternativa per rinfrescarsi durante le giornate calde.\",\n",
        "                          \"Le pesche mature sono così dolci e succose che si sciolgono in bocca con ogni morso.\",\n",
        "                          \"Ho fatto una torta con pesche sciroppate e crema chantilly, è stata un successo!\",\n",
        "                          \"Una fetta di pesca fresca è perfetta per iniziare la giornata.\",\n",
        "                          \"La marmellata di pesca si abbina bene al pane tostato.\",\n",
        "                           \"Il profumo della pesca matura riempie la cucina.\",\n",
        "                          \"La mia torta preferita è quella con pesca e crema.\",\n",
        "                          \"Il gelato alla pesca è sempre una scelta rinfrescante.\",\n",
        "                          \"Il succo di pesca appena spremuto è delizioso.\",\n",
        "                          \"Tagliare una pesca e aggiungerla allo yogurt è uno snack sano.\",\n",
        "                          \"Il sapore della pesca è unico e inconfondibile.\",\n",
        "                          \"La torta soffice con pesca è un dolce perfetto per ogni occasione.\",\n",
        "                          \"La confettura di pesca si abbina bene ai formaggi stagionati.\",\n",
        "                          \"Il gelato alla pesca con pezzi di frutta è una delizia.\",\n",
        "                          \"La pesca è un ottimo ingrediente per preparare smoothie estivi.\",\n",
        "                          \"Una salsa di pesca è un'ottima aggiunta per il gelato alla vaniglia.\",\n",
        "                          \"Un bicchiere di succo di pesca fresco è sempre una buona idea.\",\n",
        "                          \"La pesca tagliata a dadini è perfetta per decorare le torte.\",\n",
        "                          \"Il crumble di pesca è un dolce croccante e gustoso.\",\n",
        "                          \"Letizia guidava mangiando una pesca\",\n",
        "                          \"La pesca al forno con zucchero e cannella è un dessert semplice ma delizioso.\",\n",
        "                          \"Una mousse alla pesca è un dolce leggero e raffinato.\",\n",
        "                          \"Il sapore della pesca si combina bene con il basilico fresco.\",\n",
        "                          \"Una pesca matura è così succosa che il succo ti cola sulle mani.\",\n",
        "                          \"Le fette di pesca sono ideali per una colazione leggera.\",\n",
        "                          \"La pesca caramellata è un dessert irresistibile.\",\n",
        "                          \"ho camminato per strada mentre mangiavo una pesca\",\n",
        "                          \"Le fettine di pesca aggiungono colore e sapore alle insalate.\",\n",
        "                          \"Il profumo della pesca matura è inconfondibile.\",\n",
        "                          \"Una crema alla pesca è un'ottima farcitura per i dolci.\",\n",
        "                          \"Il sapore della pesca è perfetto per i cocktail estivi.\",\n",
        "                          \"La pesca è un frutto versatile che si adatta a molte ricette.\",\n",
        "                          \"Un bicchiere di tè freddo alla pesca è perfetto per le giornate calde.\",\n",
        "                          \"La pesca sciroppata è un'aggiunta gustosa ai dessert.\",\n",
        "                          \"Una pesca matura è un'esplosione di dolcezza.\",\n",
        "                          \"Il gelato alla pesca con pezzi di frutta è una vera delizia.\",\n",
        "                          \"La pesca essiccata è un ottimo snack da portare con sé.\",\n",
        "                          \"La salsa di pesca è perfetta per accompagnare i piatti di carne.\",\n",
        "                          \"La pesca è un frutto che si presta a molte preparazioni culinarie.\",\n",
        "                          \"Il profumo di una pesca appena tagliata è irresistibile.\",\n",
        "    \"Adoro la dolcezza e la succosità di una pesca matura.\",\n",
        "    \"La pesca è un frutto versatile che si può gustare al naturale, in frullati, torte o marmellate.\",\n",
        "    \"Niente di meglio di una pesca fresca colta direttamente dall'albero.\",\n",
        "    \"La pesca è un frutto ricco di vitamine e minerali, perfetto per una pausa salutare.\",\n",
        "    \"Mi piace preparare la macedonia con pesche, melone e uva, un dessert fresco e rinfrescante.\",\n",
        "    \"La pesca è un ingrediente delizioso per crostate, torte e muffin.\",\n",
        "    \"Il succo di pesca è una bevanda dissetante e ricca di gusto.\",\n",
        "    \"La pesca sciroppata è un dessert classico e sempre apprezzato.\",\n",
        "    \"La confettura di pesca è perfetta per accompagnare pane tostato o biscotti.\",\n",
        "    \"La pesca è un frutto che mi ricorda l'estate e le giornate al mare.\",\n",
        "    \"Mi piace mangiare la pesca tagliata a spicchi con un filo di miele.\",\n",
        "    \"La pesca è un frutto ottimo da portare in spiaggia o in gita.\",\n",
        "    \"Un gelato alla pesca è il modo perfetto per concludere un pasto estivo.\",\n",
        "    \"La pesca è un frutto che piace sia ai grandi che ai bambini.\",\n",
        "    \"Spesso uso la pesca per preparare frullati freschi e nutrienti.\",\n",
        "    \"La pesca è un ingrediente che aggiunge un tocco di dolcezza alle insalate.\",\n",
        "    \"Mi piace preparare la salsa agrodolce con la pesca per accompagnare piatti di carne o pesce.\",\n",
        "    \"La pesca è un frutto versatile che si può utilizzare in mille modi in cucina.\",\n",
        "    \"Non c'è niente di meglio di una pesca fresca per una sana e gustosa merenda.\",\n",
        "    \"La pesca è un frutto che mi fa stare bene e mi dà energia.\",\n",
        "    \"Mangiare una pesca è come fare un viaggio sensoriale tra profumi e sapori.\",\n",
        "    \"La pesca è un dono prezioso della natura che dovremmo apprezzare sempre.\",\n",
        "    \"Ogni morso di pesca è un'esplosione di gusto e di freschezza.\",\n",
        "    \"La pesca è un frutto che mi ricorda i bei ricordi dell'infanzia.\",\n",
        "    \"Niente di meglio di una pesca fresca per affrontare una giornata calda.\",\n",
        "    \"La pesca è un frutto che mi fa sentire felice e spensierata.\",\n",
        "    \"Ogni morso di pesca è un viaggio verso il paradiso del gusto.\",\n",
        "    \"La pesca è un frutto che mi fa sentire grata per la vita.\",\n",
        "    \"Ogni volta che guardo una pesca mi stupisco della sua bellezza.\",\n",
        "    \"La pesca è un frutto che mi ispira a essere migliore.\",\n",
        "    \"Mangiare una pesca è come fare un piccolo gesto d'amore per me stessa.\",\n",
        "                          \"Una fetta di pesca è un'ottima aggiunta al mio yogurt mattutino.\",\n",
        "    \"Ho fatto una crostata con pesca e crema pasticcera, è deliziosa!\",\n",
        "    \"Il profumo della pesca matura riempie tutta la casa.\",\n",
        "    \"Il succo di pesca fresco è ideale per iniziare la giornata.\",\n",
        "    \"La marmellata di pesca fatta in casa è perfetta per la colazione.\",\n",
        "    \"Una pesca matura è così dolce e succosa che non riesco a resisterle.\",\n",
        "    \"Il gelato alla pesca è il mio dessert preferito d'estate.\",\n",
        "    \"Una pesca tagliata a dadini è ottima nelle insalate di frutta.\",\n",
        "    \"Il sapore della pesca si abbina bene ai formaggi freschi.\",\n",
        "    \"Una pesca matura è un piacere da gustare in qualsiasi momento.\",\n",
        "    \"La salsa di pesca aggiunge un tocco di dolcezza ai piatti di carne.\",\n",
        "    \"Un bicchiere di succo di pesca è perfetto per rinfrescarsi.\",\n",
        "    \"La polpa della pesca si scioglie in bocca con ogni morso.\",\n",
        "    \"Una pesca matura è il complemento ideale per una macedonia.\",\n",
        "    \"Le fette di pesca sono perfette per decorare torte e dolci.\",\n",
        "    \"Una pesca matura è una dolce tentazione che non si può ignorare.\",\n",
        "    \"Il crumble di pesca è un dolce che piace a tutti.\",\n",
        "    \"Una centrifuga di pesca e zenzero è molto rinfrescante.\",\n",
        "    \"Una mousse di pesca è un dolce leggero e delizioso.\",\n",
        "    \"La confettura di pesca è ottima sulle fette biscottate.\",\n",
        "    \"Una pesca matura è l'ideale per una merenda sana.\",\n",
        "    \"La pesca al forno con un po' di zucchero e cannella è squisita.\",\n",
        "    \"Un'insalata di rucola, formaggio e pesca è molto gustosa.\",\n",
        "    \"La pesca grigliata con miele è un dessert semplice ma delizioso.\",\n",
        "    \"Il gelato alla pesca fatto in casa è una vera prelibatezza.\",\n",
        "    \"Una cheesecake alla pesca è un dolce cremoso e irresistibile.\",\n",
        "    \"Il sapore della pesca è perfetto per i frullati estivi.\",\n",
        "    \"Una pesca matura è così succosa che il suo succo ti cola sulle mani.\",\n",
        "    \"Il tè freddo alla pesca è una bevanda molto rinfrescante.\",\n",
        "    \"La pesca caramellata è un dessert che conquista tutti.\",\n",
        "    \"Una gelatina di pesca è un dolce fresco e leggero.\",\n",
        "    \"Le fettine di pesca sono ideali per uno spuntino veloce.\",\n",
        "    \"Il profumo della pesca matura è inebriante.\",\n",
        "    \"Una crema di pesca è perfetta per farcire i dolci.\",\n",
        "    \"La pesca in agrodolce è un contorno insolito ma gustoso.\",\n",
        "    \"Il sorbetto alla pesca è un dessert perfetto per le giornate calde.\",\n",
        "    \"La pesca essiccata è uno snack naturale e delizioso.\",\n",
        "    \"Una pesca matura è un'esplosione di sapore in bocca.\",\n",
        "    \"Il sapore della pesca è così delizioso che è difficile resisterle.\"\n",
        "                          ]\n",
        "\n",
        "#lets create a list of phrases where pesca is a sport\n",
        "training_string_sport = [\"Durante il weekend, Marco e i suoi amici sono andati a praticare la pesca sportiva sul lago.\",\n",
        "                         \"La pesca d'altura richiede una buona preparazione fisica e attrezzature specifiche.\",\n",
        "                         \"Ho imparato l'arte della pesca da mio nonno, che mi portava sempre al fiume da bambino.\",\n",
        "                         \"Le gare di pesca sono molto popolari in questa regione, soprattutto in estate.\",\n",
        "                         \"La pesca alla trota in torrente è una delle mie attività preferite per rilassarmi.\",\n",
        "                         \"Esistono diverse tecniche di pesca sportiva, tra cui il fly fishing e lo spinning.\",\n",
        "                         \"Per migliorare le tue abilità nella pesca, è utile frequentare dei corsi specifici.\",\n",
        "                         \"Il torneo di pesca di quest'anno ha attirato partecipanti da tutto il paese.\",\n",
        "                         \"Prima di andare a pesca, è importante controllare le previsioni meteo e le maree.\",\n",
        "                         \"La pesca al lago offre la possibilità di catturare pesci di grandi dimensioni.\",\n",
        "                         \"marco e anna sono andati a fare una gara di pesca a Genova\",\n",
        "                         \"La pesca al colpo richiede molta pazienza e una buona conoscenza del comportamento dei pesci.\",\n",
        "                         \"in esate molte persone vanno a fare pesca sul lago\",\n",
        "                         \"Marta ha vinto il primo premio nel campionato regionale di pesca al black bass.\",\n",
        "                         \"La pesca con esche artificiali è diventata molto popolare tra i pescatori sportivi.\",\n",
        "                         \"Durante la vacanza in montagna, abbiamo dedicato un'intera giornata alla pesca nel lago alpino.\",\n",
        "                         \"La pesca catch and release è una pratica comune per preservare le popolazioni ittiche.\",\n",
        "                         \"Ogni anno, la nostra città organizza una festa dedicata alla pesca, con eventi e competizioni per tutti.\",\n",
        "                         \"La pesca in mare aperto offre sfide uniche e la possibilità di catturare pesci di grandi dimensioni.\",\n",
        "                         \"I bambini si sono divertiti moltissimo alla lezione di pesca organizzata dal club locale.\",\n",
        "                         \"a mio figlio insegnerò larte della pesca sul lago\",\n",
        "                         \"Il negozio di articoli per la pesca vicino al porto ha tutto ciò di cui un pescatore può aver bisogno.\",\n",
        "                         \"La pesca in notturna può essere un'esperienza affascinante, soprattutto durante le notti estive.\",\n",
        "                         \"La pesca sportiva è un'attività rilassante che permette di godere della natura.\",\n",
        "                         \"Partecipare a una gara di pesca può essere emozionante e competitivo.\",\n",
        "                         \"La pesca al salmone nei fiumi del nord è una delle esperienze più ambite dai pescatori.\",\n",
        "                         \"Molti appassionati di pesca sportiva si dedicano alla pesca no-kill per preservare le specie ittiche.\",\n",
        "                         \"Il miglior momento per la pesca al luccio è all'alba, quando i pesci sono più attivi.\",\n",
        "                         \"La pesca in kayak sta diventando sempre più popolare tra gli amanti dell'avventura.\",\n",
        "                         \"I laghi artificiali sono spesso usati per le competizioni di pesca sportiva.\",\n",
        "                         \"La pesca in apnea richiede abilità particolari e una buona preparazione fisica.\",\n",
        "                         \"Durante le vacanze estive, organizziamo spesso battute di pesca notturna.\",\n",
        "                         \"Le canne da pesca di alta qualità possono fare la differenza nel successo di una battuta.\",\n",
        "                         \"La pesca invernale sul ghiaccio è una tradizione in molti paesi nordici.\",\n",
        "                         \"I pescatori sportivi devono spesso rispettare rigorose regolamentazioni per proteggere l'ecosistema.\",\n",
        "                         \"La pesca di carpe giganti è una sfida che attira molti pescatori esperti.\",\n",
        "                         \"Ho partecipato a un workshop di pesca sportiva per migliorare le mie tecniche.\",\n",
        "                         \"La pesca in acque salate offre la possibilità di catturare una grande varietà di specie.\",\n",
        "                         \"La scelta dell'esca giusta è cruciale per avere successo nella pesca.\",\n",
        "                         \"Il club di pesca locale organizza eventi settimanali per i suoi membri.\",\n",
        "                         \"La pesca alla traina è una tecnica efficace per catturare pesci predatori.\",\n",
        "                         \"Gli appassionati di pesca sportiva amano condividere le loro esperienze e consigli.\",\n",
        "                         \"La pesca dal molo è un'attività divertente e accessibile per tutti.\",\n",
        "                         \"Gli accessori per la pesca, come i mulinelli e le esche, possono essere personalizzati.\",\n",
        "                         \"La pesca in fiume richiede una buona conoscenza delle correnti e dei punti migliori.\",\n",
        "                         \"Molti pescatori tengono un diario per annotare le loro catture e le condizioni meteo.\",\n",
        "                         \"La pesca al bass è popolare soprattutto negli Stati Uniti e richiede tecniche specifiche.\",\n",
        "                         \"Le barche da pesca sportiva sono dotate di tecnologie avanzate per individuare i pesci.\",\n",
        "                         \"Le riserve di pesca sono aree protette dove è possibile praticare la pesca sportiva in modo sostenibile.\",\n",
        "                         \"La pesca alla carpa si pratica spesso in laghetti o stagni appositamente attrezzati.\",\n",
        "                         \"I bambini si divertono moltissimo durante le giornate di pesca organizzate per loro.\",\n",
        "                         \"Le riviste di pesca sportiva offrono consigli utili e racconti di avventure da tutto il mondo.\",\n",
        "                         \"La pesca sportiva è un'attività rilassante che permette di godere della natura.\",\n",
        "                         \"Partecipare a una gara di pesca può essere emozionante e competitivo.\",\n",
        "                         \"La pesca al salmone nei fiumi del nord è una delle esperienze più ambite dai pescatori.\",\n",
        "                         \"Molti appassionati di pesca sportiva si dedicano alla pesca no-kill per preservare le specie ittiche.\",\n",
        "                         \"Il miglior momento per la pesca al luccio è all'alba, quando i pesci sono più attivi.\",\n",
        "                         \"La pesca in kayak sta diventando sempre più popolare tra gli amanti dell'avventura.\",\n",
        "                         \"I laghi artificiali sono spesso usati per le competizioni di pesca sportiva.\",\n",
        "                         \"Durante le vacanze estive, organizziamo spesso battute di pesca notturna.\",\n",
        "                         \"Le canne da pesca di alta qualità possono fare la differenza nel successo di una battuta.\",\n",
        "                         \"La pesca invernale sul ghiaccio è una tradizione in molti paesi nordici.\",\n",
        "                         \"La pesca a mosca è considerata un'arte per la sua tecnica raffinata.\",\n",
        "                         \"I pescatori sportivi devono spesso rispettare rigorose regolamentazioni per proteggere l'ecosistema.\",\n",
        "                         \"La pesca di carpe giganti è una sfida che attira molti pescatori esperti.\",\n",
        "                         \"Ho partecipato a un workshop di pesca sportiva per migliorare le mie tecniche.\",\n",
        "                         \"La pesca in acque salate offre la possibilità di catturare una grande varietà di specie.\",\n",
        "                         \"La scelta dell'esca giusta è cruciale per avere successo nella pesca.\",\n",
        "                         \"Il club di pesca locale organizza eventi settimanali per i suoi membri.\",\n",
        "                         \"Gli appassionati di pesca sportiva amano condividere le loro esperienze e consigli.\",\n",
        "                         \"La pesca dal molo è un'attività divertente e accessibile per tutti.\",\n",
        "                         \"Gli accessori per la pesca, come i mulinelli e le esche, possono essere personalizzati.\",\n",
        "                         \"La pesca in fiume richiede una buona conoscenza delle correnti e dei punti migliori.\",\n",
        "                         \"Molti pescatori tengono un diario per annotare le loro catture e le condizioni meteo.\",\n",
        "                         \"La pesca al bass è popolare soprattutto negli Stati Uniti e richiede tecniche specifiche.\",\n",
        "                         \"Le barche da pesca sportiva sono dotate di tecnologie avanzate per individuare i pesci.\",\n",
        "                         \"Le riserve di pesca sono aree protette dove è possibile praticare la pesca sportiva in modo sostenibile.\",\n",
        "                         \"La pesca alla carpa si pratica spesso in laghetti o stagni appositamente attrezzati.\",\n",
        "                         \"I bambini si divertono moltissimo durante le giornate di pesca organizzate per loro.\",\n",
        "                         \"Le riviste di pesca sportiva offrono consigli utili e racconti di avventure da tutto il mondo.\",\n",
        "                         \"La pesca è un'attività rilassante che mi permette di stare a contatto con la natura.\",\n",
        "\"Adoro la sensazione di attesa quando la lenza è in acqua e non so cosa potrò tirare su.\",\n",
        "\"La pesca è uno sport che richiede pazienza, perseveranza e abilità.\",\n",
        "\"Non c'è niente di più bello che catturare un pesce dopo una lunga giornata di pesca.\",\n",
        "\"La pesca è un'ottima occasione per trascorrere del tempo con la famiglia e gli amici.\",\n",
        "\"Mi piace insegnare la pesca ai bambini e vedere la loro emozione quando catturano il loro primo pesce.\",\n",
        "\"La pesca è uno sport che mi permette di esplorare nuovi luoghi e di scoprire nuovi pesci.\",\n",
        "\"Mi piace gareggiare in competizioni di pesca e mettere alla prova le mie abilità contro altri pescatori.\",\n",
        "\"La pesca è un modo per staccare dalla routine quotidiana e dallo stress della vita moderna.\",\n",
        "\"La pesca è una passione che mi accompagnerà per tutta la vita.\",\n",
        "                         \"La pesca è uno sport che richiede molta pazienza e precisione.\",\n",
        "    \"Ogni weekend vado a pesca con i miei amici lungo il fiume.\",\n",
        "    \"Ho comprato una nuova canna da pesca per la mia prossima avventura.\",\n",
        "    \"La pesca in mare aperto è un'esperienza emozionante e rilassante.\",\n",
        "    \"Il mio nonno mi ha insegnato tutti i segreti della pesca.\",\n",
        "    \"La pesca notturna può essere molto tranquilla e rilassante.\",\n",
        "    \"Mi piace molto la pesca perché mi permette di stare a contatto con la natura.\",\n",
        "    \"La pesca sportiva è un'attività molto diffusa nella nostra regione.\",\n",
        "    \"Ho partecipato a una gara di pesca e ho vinto il primo premio.\",\n",
        "    \"La pesca in acque dolci è diversa dalla pesca in mare, ma entrambe sono divertenti.\",\n",
        "    \"Durante le vacanze estive, la pesca è il mio passatempo preferito.\",\n",
        "    \"La pesca con la mosca richiede molta abilità e pratica.\",\n",
        "    \"Ho preso il mio primo pesce durante una sessione di pesca al lago.\",\n",
        "    \"La pesca a mosca è un tipo di pesca molto elegante e tecnico.\",\n",
        "    \"La pesca dal molo è perfetta per chi ama la tranquillità.\",\n",
        "    \"La pesca su una barca in mezzo al lago è estremamente rilassante.\",\n",
        "    \"Mi sono appassionato alla pesca fin da bambino, grazie a mio padre.\",\n",
        "    \"La pesca in kayak è un'esperienza unica e avventurosa.\",\n",
        "    \"La pesca sul ghiaccio è molto popolare nei paesi nordici.\",\n",
        "    \"La pesca è uno sport che ti insegna la pazienza e la perseveranza.\",\n",
        "    \"Ho catturato un enorme pesce durante la mia ultima battuta di pesca.\",\n",
        "    \"Il club di pesca locale organizza eventi e competizioni tutto l'anno.\",\n",
        "    \"La pesca con l'amo e lenza è una tecnica molto antica.\",\n",
        "    \"Mi piace esplorare nuovi luoghi per la pesca durante i miei viaggi.\",\n",
        "    \"La pesca richiede una buona conoscenza delle abitudini dei pesci.\",\n",
        "    \"La pesca è un ottimo modo per trascorrere del tempo all'aria aperta.\",\n",
        "    \"Ho trascorso l'intera giornata a pesca, godendomi la tranquillità del lago.\",\n",
        "    \"La pesca in solitaria mi permette di riflettere e rilassarmi.\",\n",
        "    \"Ogni volta che vado a pesca, torno a casa con nuove storie da raccontare.\",\n",
        "    \"La pesca d'altura può essere molto impegnativa ma anche gratificante.\",\n",
        "    \"La pesca al largo della costa è perfetta per catturare pesci di grandi dimensioni.\",\n",
        "    \"Il mio hobby preferito è la pesca, soprattutto nelle acque cristalline delle montagne.\",\n",
        "    \"La pesca mi aiuta a staccare la spina e a ritrovare la serenità.\",\n",
        "    \"Ho imparato molte tecniche di pesca grazie ai miei amici esperti.\",\n",
        "    \"La pesca in torrente è un'attività molto rilassante e appagante.\",\n",
        "    \"Ho trascorso un'intera settimana dedicata alla pesca in un lago isolato.\",\n",
        "    \"La pesca subacquea è un'esperienza che richiede coraggio e abilità.\",\n",
        "    \"Durante le vacanze, la pesca è la mia attività preferita per rilassarmi.\",\n",
        "    \"Il piacere della pesca sta nel godersi ogni momento, dalla preparazione all'attesa.\",\n",
        "    \"Ho acquistato una nuova attrezzatura per migliorare le mie abilità nella pesca.\",\n",
        "                         \"Ho comprato una nuova canna da pesca per migliorare le mie prestazioni.\",\n",
        "    \"La pesca è una delle attività più antiche praticate dall'uomo.\",\n",
        "    \"La pesca in acque profonde richiede una buona preparazione fisica.\",\n",
        "    \"Il mio hobby preferito è la pesca, soprattutto durante i mesi estivi.\",\n",
        "    \"La pesca in kayak combina l'amore per l'acqua e la passione per lo sport.\",\n",
        "    \"La pesca d'altura può regalare grandi soddisfazioni e catture memorabili.\",\n",
        "    \"La pesca a mosca è considerata un'arte da molti appassionati.\",\n",
        "    \"La pesca subacquea è un'esperienza affascinante e avventurosa.\",\n",
        "    \"La pesca al salmone è molto popolare nei fiumi del nord.\",\n",
        "    \"Ho trascorso un'intera giornata a pesca, senza rendermi conto del tempo che passava.\",\n",
        "    \"La pesca in un lago di montagna è un'esperienza unica e rilassante.\",\n",
        "    \"La pesca richiede una buona conoscenza delle condizioni meteorologiche.\",\n",
        "    \"La pesca è un'ottima attività per rafforzare i legami familiari.\",\n",
        "    \"Mi piace esplorare nuovi luoghi di pesca durante le vacanze.\",\n",
        "    \"La pesca è uno sport che può essere praticato a qualsiasi età.\",\n",
        "    \"Ho catturato il mio primo pesce quando avevo solo cinque anni.\",\n",
        "    \"La pesca è un'attività perfetta per sfuggire allo stress quotidiano.\",\n",
        "    \"Ho partecipato a una gara di pesca e ho avuto un grande successo.\",\n",
        "    \"La pesca è uno sport che richiede calma e concentrazione.\",\n",
        "                         \"Ogni anno partecipo a un torneo di pesca locale.\",\n",
        "    \"La pesca sul fiume è una delle attività preferite della mia famiglia.\",\n",
        "    \"Ho preso una giornata di ferie per dedicarmi alla pesca.\"\n",
        "\n",
        "\n",
        "                         ]\n",
        "\n",
        "\n",
        "parola = \"pesca\"\n",
        "\n",
        "training_list = []\n",
        "\n",
        "#we need to filter the lists to avoid having sentences where there is no \"pesca\" and we map the word to the correct context\n",
        "for string in training_string_frutto:\n",
        "    if parola in string:\n",
        "        inizio = string.find(parola)\n",
        "        fine = inizio + len(parola)\n",
        "        training_list.append((string, [(inizio, fine, \"frutto\")]))\n",
        "print(len(training_list))\n",
        "\n",
        "for string in training_string_sport:\n",
        "    if parola in string:\n",
        "        inizio = string.find(parola)\n",
        "        fine = inizio + len(parola)\n",
        "        training_list.append((string,[(inizio, fine, \"sport\")]))\n",
        "print(len(training_list))\n",
        "\n",
        "#now we can create the actual database for the training and save it in the file train.spacy\n",
        "db = DocBin()\n",
        "for text, annotations in training_list:\n",
        "    doc = nlp(text)\n",
        "    ents = []\n",
        "    tokens = []\n",
        "    for token in doc:\n",
        "        tokens.append(token)\n",
        "    for start, end, label in annotations:\n",
        "        span = doc.char_span(start, end, label=label)\n",
        "        ents.append(span)\n",
        "    if ents != [None]:\n",
        "        doc.ents = ents\n",
        "        db.add(doc)\n",
        "db.to_disk(\"./train.spacy\")"
      ],
      "metadata": {
        "id": "1CnPI6bzIZN4",
        "colab": {
          "base_uri": "https://localhost:8080/"
        },
        "outputId": "064cfe83-528a-4b87-ea08-e31e06392fad"
      },
      "id": "1CnPI6bzIZN4",
      "execution_count": null,
      "outputs": [
        {
          "output_type": "stream",
          "name": "stdout",
          "text": [
            "150\n",
            "300\n"
          ]
        }
      ]
    },
    {
      "cell_type": "markdown",
      "source": [
        "Now we have to download from spaCy's website a configuration file and add it to te files of the session (https://spacy.io/usage/training).\n",
        "base_config.cfg includes all settings and hyperparameters for the training.\n",
        "You can personilize it from the website or manually. In my case i chose:\n",
        "- language: italian\n",
        "- components: ner\n",
        "- hardware: gpu (activate it in the colab options)\n",
        "- optimize for: accuracy\n",
        "\n"
      ],
      "metadata": {
        "id": "EEYZa41jAToI"
      },
      "id": "EEYZa41jAToI"
    },
    {
      "cell_type": "code",
      "source": [
        "#the next command will fill in the remaining defaults\n",
        "!python -m spacy init fill-config base_config_GPU.cfg config.cfg"
      ],
      "metadata": {
        "colab": {
          "base_uri": "https://localhost:8080/"
        },
        "id": "GiIvp9EDStJB",
        "outputId": "5fd33a37-cfb6-47a1-86da-3c791d02e0e2"
      },
      "id": "GiIvp9EDStJB",
      "execution_count": null,
      "outputs": [
        {
          "output_type": "stream",
          "name": "stdout",
          "text": [
            "/usr/local/lib/python3.10/dist-packages/transformers/utils/generic.py:441: UserWarning: torch.utils._pytree._register_pytree_node is deprecated. Please use torch.utils._pytree.register_pytree_node instead.\n",
            "  _torch_pytree._register_pytree_node(\n",
            "/usr/local/lib/python3.10/dist-packages/transformers/utils/generic.py:309: UserWarning: torch.utils._pytree._register_pytree_node is deprecated. Please use torch.utils._pytree.register_pytree_node instead.\n",
            "  _torch_pytree._register_pytree_node(\n",
            "\u001b[38;5;2m✔ Auto-filled config with all values\u001b[0m\n",
            "\u001b[38;5;2m✔ Saved config\u001b[0m\n",
            "config.cfg\n",
            "You can now add your data and train your pipeline:\n",
            "python -m spacy train config.cfg --paths.train ./train.spacy --paths.dev ./dev.spacy\n"
          ]
        }
      ]
    },
    {
      "cell_type": "markdown",
      "source": [
        "It's time to train the model.<br>\n",
        "The followig command will create a new model and train it with the DB we have just created.<br>\n",
        "This operation can take a long time. At the end the new model will be saved in a new folder called \"output\"."
      ],
      "metadata": {
        "id": "E92CgGGTNE4R"
      },
      "id": "E92CgGGTNE4R"
    },
    {
      "cell_type": "code",
      "source": [
        "!python -m spacy train config.cfg --gpu-id 0 --output ./output --paths.train ./train.spacy --paths.dev ./train.spacy"
      ],
      "metadata": {
        "colab": {
          "base_uri": "https://localhost:8080/"
        },
        "id": "6NWmPdqBTMFb",
        "outputId": "7ac57d5d-9f17-4184-f130-ea2af54cbf52"
      },
      "id": "6NWmPdqBTMFb",
      "execution_count": null,
      "outputs": [
        {
          "output_type": "stream",
          "name": "stdout",
          "text": [
            "\u001b[38;5;2m✔ Created output directory: output\u001b[0m\n",
            "\u001b[38;5;4mℹ Saving to output directory: output\u001b[0m\n",
            "\u001b[38;5;4mℹ Using GPU: 0\u001b[0m\n",
            "\u001b[1m\n",
            "=========================== Initializing pipeline ===========================\u001b[0m\n",
            "/usr/local/lib/python3.10/dist-packages/transformers/utils/generic.py:441: UserWarning: torch.utils._pytree._register_pytree_node is deprecated. Please use torch.utils._pytree.register_pytree_node instead.\n",
            "  _torch_pytree._register_pytree_node(\n",
            "/usr/local/lib/python3.10/dist-packages/transformers/utils/generic.py:309: UserWarning: torch.utils._pytree._register_pytree_node is deprecated. Please use torch.utils._pytree.register_pytree_node instead.\n",
            "  _torch_pytree._register_pytree_node(\n",
            "/usr/local/lib/python3.10/dist-packages/huggingface_hub/file_download.py:1132: FutureWarning: `resume_download` is deprecated and will be removed in version 1.0.0. Downloads always resume when possible. If you want to force a new download, use `force_download=True`.\n",
            "  warnings.warn(\n",
            "tokenizer_config.json: 100% 48.0/48.0 [00:00<00:00, 323kB/s]\n",
            "config.json: 100% 625/625 [00:00<00:00, 3.90MB/s]\n",
            "vocab.txt: 100% 872k/872k [00:00<00:00, 35.8MB/s]\n",
            "tokenizer.json: 100% 1.72M/1.72M [00:00<00:00, 103MB/s]\n",
            "/usr/local/lib/python3.10/dist-packages/transformers/utils/generic.py:309: UserWarning: torch.utils._pytree._register_pytree_node is deprecated. Please use torch.utils._pytree.register_pytree_node instead.\n",
            "  _torch_pytree._register_pytree_node(\n",
            "/usr/local/lib/python3.10/dist-packages/huggingface_hub/file_download.py:1132: FutureWarning: `resume_download` is deprecated and will be removed in version 1.0.0. Downloads always resume when possible. If you want to force a new download, use `force_download=True`.\n",
            "  warnings.warn(\n",
            "model.safetensors: 100% 672M/672M [00:02<00:00, 247MB/s]\n",
            "\u001b[38;5;2m✔ Initialized pipeline\u001b[0m\n",
            "\u001b[1m\n",
            "============================= Training pipeline =============================\u001b[0m\n",
            "\u001b[38;5;4mℹ Pipeline: ['transformer', 'ner']\u001b[0m\n",
            "\u001b[38;5;4mℹ Initial learn rate: 0.0\u001b[0m\n",
            "E    #       LOSS TRANS...  LOSS NER  ENTS_F  ENTS_P  ENTS_R  SCORE \n",
            "---  ------  -------------  --------  ------  ------  ------  ------\n",
            "  0       0         452.36    111.57    0.00    0.00    0.00    0.00\n",
            " 50     200       29315.66  17535.10  100.00  100.00  100.00    1.00\n",
            "100     400          42.44     55.42  100.00  100.00  100.00    1.00\n",
            "150     600           0.00      0.00  100.00  100.00  100.00    1.00\n",
            "200     800           0.00      0.00  100.00  100.00  100.00    1.00\n",
            "250    1000           0.00      0.00  100.00  100.00  100.00    1.00\n",
            "300    1200           0.00      0.00  100.00  100.00  100.00    1.00\n",
            "350    1400           0.00      0.00  100.00  100.00  100.00    1.00\n",
            "400    1600           0.00      0.00  100.00  100.00  100.00    1.00\n",
            "450    1800           0.00      0.00  100.00  100.00  100.00    1.00\n",
            "\u001b[38;5;2m✔ Saved pipeline to output directory\u001b[0m\n",
            "output/model-last\n"
          ]
        }
      ]
    },
    {
      "cell_type": "markdown",
      "source": [
        "⚠️⚠️⚠️<br>\n",
        "Colab doesn't saves files at the end of the session, so if you don't want to lose the model zip the folder and download it"
      ],
      "metadata": {
        "id": "vEfc7avITVU1"
      },
      "id": "vEfc7avITVU1"
    },
    {
      "cell_type": "code",
      "source": [
        "!zip -r output.zip ./output"
      ],
      "metadata": {
        "colab": {
          "base_uri": "https://localhost:8080/"
        },
        "id": "JUI-dDP9Tc4s",
        "outputId": "4e34163d-d4ce-4a77-aef2-b285664b96b9"
      },
      "id": "JUI-dDP9Tc4s",
      "execution_count": null,
      "outputs": [
        {
          "output_type": "stream",
          "name": "stdout",
          "text": [
            "  adding: output/ (stored 0%)\n",
            "  adding: output/model-last/ (stored 0%)\n",
            "  adding: output/model-last/tokenizer (deflated 85%)\n",
            "  adding: output/model-last/vocab/ (stored 0%)\n",
            "  adding: output/model-last/vocab/key2row (stored 0%)\n",
            "  adding: output/model-last/vocab/vectors.cfg (stored 0%)\n",
            "  adding: output/model-last/vocab/vectors (deflated 45%)\n",
            "  adding: output/model-last/vocab/lookups.bin (stored 0%)\n",
            "  adding: output/model-last/vocab/strings.json (deflated 77%)\n",
            "  adding: output/model-last/transformer/ (stored 0%)\n",
            "  adding: output/model-last/transformer/cfg (stored 0%)\n",
            "  adding: output/model-last/transformer/model (deflated 8%)\n",
            "  adding: output/model-last/config.cfg (deflated 61%)\n",
            "  adding: output/model-last/meta.json (deflated 63%)\n",
            "  adding: output/model-last/ner/ (stored 0%)\n",
            "  adding: output/model-last/ner/moves (deflated 52%)\n",
            "  adding: output/model-last/ner/cfg (deflated 33%)\n",
            "  adding: output/model-last/ner/model (deflated 8%)\n",
            "  adding: output/model-best/ (stored 0%)\n",
            "  adding: output/model-best/tokenizer (deflated 85%)\n",
            "  adding: output/model-best/vocab/ (stored 0%)\n",
            "  adding: output/model-best/vocab/key2row (stored 0%)\n",
            "  adding: output/model-best/vocab/vectors.cfg (stored 0%)\n",
            "  adding: output/model-best/vocab/vectors (deflated 45%)\n",
            "  adding: output/model-best/vocab/lookups.bin (stored 0%)\n",
            "  adding: output/model-best/vocab/strings.json (deflated 77%)\n",
            "  adding: output/model-best/transformer/ (stored 0%)\n",
            "  adding: output/model-best/transformer/cfg (stored 0%)\n",
            "  adding: output/model-best/transformer/model (deflated 8%)\n",
            "  adding: output/model-best/config.cfg (deflated 61%)\n",
            "  adding: output/model-best/meta.json (deflated 63%)\n",
            "  adding: output/model-best/ner/ (stored 0%)\n",
            "  adding: output/model-best/ner/moves (deflated 52%)\n",
            "  adding: output/model-best/ner/cfg (deflated 33%)\n",
            "  adding: output/model-best/ner/model (deflated 8%)\n"
          ]
        }
      ]
    },
    {
      "cell_type": "markdown",
      "source": [
        "We can now load the traind model and use it for natural language processing"
      ],
      "metadata": {
        "id": "MBVZQIE1PWHt"
      },
      "id": "MBVZQIE1PWHt"
    },
    {
      "cell_type": "code",
      "source": [
        "nlp1 = spacy.load(\"./output/model-best\")"
      ],
      "metadata": {
        "id": "gnOpB7JDdX-E",
        "colab": {
          "base_uri": "https://localhost:8080/"
        },
        "outputId": "ad96d7bf-9605-432e-da19-e786b9a4ec97"
      },
      "id": "gnOpB7JDdX-E",
      "execution_count": null,
      "outputs": [
        {
          "output_type": "stream",
          "name": "stderr",
          "text": [
            "/usr/local/lib/python3.10/dist-packages/spacy/util.py:1740: UserWarning: [W111] Jupyter notebook detected: if using `prefer_gpu()` or `require_gpu()`, include it in the same cell right before `spacy.load()` to ensure that the model is loaded on the correct device. More information: http://spacy.io/usage/v3#jupyter-notebook-gpu\n",
            "  warnings.warn(Warnings.W111)\n",
            "/usr/local/lib/python3.10/dist-packages/transformers/utils/generic.py:309: UserWarning: torch.utils._pytree._register_pytree_node is deprecated. Please use torch.utils._pytree.register_pytree_node instead.\n",
            "  _torch_pytree._register_pytree_node(\n"
          ]
        }
      ]
    },
    {
      "cell_type": "markdown",
      "source": [
        "#Let's make some tests"
      ],
      "metadata": {
        "id": "qbXcFRMBPtzk"
      },
      "id": "qbXcFRMBPtzk"
    },
    {
      "cell_type": "code",
      "source": [
        "text = \"luigi ha vinto una gara di pesca sul lago mangiando una pesca matura\"\n",
        "doc = nlp1(text)"
      ],
      "metadata": {
        "id": "Q9iSv1ehdZax"
      },
      "id": "Q9iSv1ehdZax",
      "execution_count": null,
      "outputs": []
    },
    {
      "cell_type": "code",
      "source": [
        "spacy.displacy.render(doc, style=\"ent\")"
      ],
      "metadata": {
        "colab": {
          "base_uri": "https://localhost:8080/",
          "height": 52
        },
        "id": "0khTiIAjdzlu",
        "outputId": "0a2d0836-c70d-406a-c8a2-33255f001d94"
      },
      "id": "0khTiIAjdzlu",
      "execution_count": null,
      "outputs": [
        {
          "output_type": "display_data",
          "data": {
            "text/plain": [
              "<IPython.core.display.HTML object>"
            ],
            "text/html": [
              "<span class=\"tex2jax_ignore\"><div class=\"entities\" style=\"line-height: 2.5; direction: ltr\">luigi ha vinto una gara di \n",
              "<mark class=\"entity\" style=\"background: #ddd; padding: 0.45em 0.6em; margin: 0 0.25em; line-height: 1; border-radius: 0.35em;\">\n",
              "    pesca\n",
              "    <span style=\"font-size: 0.8em; font-weight: bold; line-height: 1; border-radius: 0.35em; vertical-align: middle; margin-left: 0.5rem\">sport</span>\n",
              "</mark>\n",
              " sul lago mangiando una pesca matura</div></span>"
            ]
          },
          "metadata": {}
        }
      ]
    },
    {
      "cell_type": "code",
      "source": [
        "text = \"per merenda prenderò una pesca\"\n",
        "doc = nlp1(text)\n",
        "spacy.displacy.render(doc, style=\"ent\")"
      ],
      "metadata": {
        "id": "WVrwBv6Fe0PW",
        "colab": {
          "base_uri": "https://localhost:8080/",
          "height": 52
        },
        "outputId": "cf6171ac-f3cc-455b-8dcf-6c9f8fd26988"
      },
      "id": "WVrwBv6Fe0PW",
      "execution_count": null,
      "outputs": [
        {
          "output_type": "display_data",
          "data": {
            "text/plain": [
              "<IPython.core.display.HTML object>"
            ],
            "text/html": [
              "<span class=\"tex2jax_ignore\"><div class=\"entities\" style=\"line-height: 2.5; direction: ltr\">per merenda prenderò una \n",
              "<mark class=\"entity\" style=\"background: #ddd; padding: 0.45em 0.6em; margin: 0 0.25em; line-height: 1; border-radius: 0.35em;\">\n",
              "    pesca\n",
              "    <span style=\"font-size: 0.8em; font-weight: bold; line-height: 1; border-radius: 0.35em; vertical-align: middle; margin-left: 0.5rem\">frutto</span>\n",
              "</mark>\n",
              "</div></span>"
            ]
          },
          "metadata": {}
        }
      ]
    },
    {
      "cell_type": "code",
      "source": [
        "text = \"al mercato compra due zucchine e una pesca\"\n",
        "doc = nlp1(text)\n",
        "spacy.displacy.render(doc, style=\"ent\")"
      ],
      "metadata": {
        "id": "MGShYlVZfEFS",
        "colab": {
          "base_uri": "https://localhost:8080/",
          "height": 52
        },
        "outputId": "5d346c51-07d3-4fde-82b1-b35017f1def8"
      },
      "id": "MGShYlVZfEFS",
      "execution_count": null,
      "outputs": [
        {
          "output_type": "display_data",
          "data": {
            "text/plain": [
              "<IPython.core.display.HTML object>"
            ],
            "text/html": [
              "<span class=\"tex2jax_ignore\"><div class=\"entities\" style=\"line-height: 2.5; direction: ltr\">al mercato compra due zucchine e una \n",
              "<mark class=\"entity\" style=\"background: #ddd; padding: 0.45em 0.6em; margin: 0 0.25em; line-height: 1; border-radius: 0.35em;\">\n",
              "    pesca\n",
              "    <span style=\"font-size: 0.8em; font-weight: bold; line-height: 1; border-radius: 0.35em; vertical-align: middle; margin-left: 0.5rem\">frutto</span>\n",
              "</mark>\n",
              "</div></span>"
            ]
          },
          "metadata": {}
        }
      ]
    },
    {
      "cell_type": "code",
      "source": [
        "text = \"le esche per la pesca sono molto costose\"\n",
        "doc = nlp1(text)\n",
        "spacy.displacy.render(doc, style=\"ent\")"
      ],
      "metadata": {
        "id": "jtgmRgq2fHic",
        "colab": {
          "base_uri": "https://localhost:8080/",
          "height": 52
        },
        "outputId": "b61bcf40-6d4c-4fc3-ad87-4aecafe7fc39"
      },
      "id": "jtgmRgq2fHic",
      "execution_count": null,
      "outputs": [
        {
          "output_type": "display_data",
          "data": {
            "text/plain": [
              "<IPython.core.display.HTML object>"
            ],
            "text/html": [
              "<span class=\"tex2jax_ignore\"><div class=\"entities\" style=\"line-height: 2.5; direction: ltr\">le esche per la \n",
              "<mark class=\"entity\" style=\"background: #ddd; padding: 0.45em 0.6em; margin: 0 0.25em; line-height: 1; border-radius: 0.35em;\">\n",
              "    pesca\n",
              "    <span style=\"font-size: 0.8em; font-weight: bold; line-height: 1; border-radius: 0.35em; vertical-align: middle; margin-left: 0.5rem\">sport</span>\n",
              "</mark>\n",
              " sono molto costose</div></span>"
            ]
          },
          "metadata": {}
        }
      ]
    },
    {
      "cell_type": "code",
      "source": [
        "text = \"ogni volta che simone va al mare pesca con gli amici\"\n",
        "doc = nlp1(text)\n",
        "spacy.displacy.render(doc, style=\"ent\")"
      ],
      "metadata": {
        "id": "ASFVL-MYfPom",
        "colab": {
          "base_uri": "https://localhost:8080/",
          "height": 52
        },
        "outputId": "4c2aa5d1-9d33-4112-d883-4a9bf9c48f36"
      },
      "id": "ASFVL-MYfPom",
      "execution_count": null,
      "outputs": [
        {
          "output_type": "display_data",
          "data": {
            "text/plain": [
              "<IPython.core.display.HTML object>"
            ],
            "text/html": [
              "<span class=\"tex2jax_ignore\"><div class=\"entities\" style=\"line-height: 2.5; direction: ltr\">ogni volta che simone va al mare \n",
              "<mark class=\"entity\" style=\"background: #ddd; padding: 0.45em 0.6em; margin: 0 0.25em; line-height: 1; border-radius: 0.35em;\">\n",
              "    pesca\n",
              "    <span style=\"font-size: 0.8em; font-weight: bold; line-height: 1; border-radius: 0.35em; vertical-align: middle; margin-left: 0.5rem\">sport</span>\n",
              "</mark>\n",
              " con gli amici</div></span>"
            ]
          },
          "metadata": {}
        }
      ]
    },
    {
      "cell_type": "code",
      "source": [
        "text = \"al supermercato la pesca costa meno delle esche da pesca\"\n",
        "doc = nlp1(text)\n",
        "spacy.displacy.render(doc, style=\"ent\")"
      ],
      "metadata": {
        "colab": {
          "base_uri": "https://localhost:8080/",
          "height": 52
        },
        "id": "nye6Fu8VXNS9",
        "outputId": "d96ffea3-1b08-41ed-df61-4c36ae5cda1c"
      },
      "id": "nye6Fu8VXNS9",
      "execution_count": null,
      "outputs": [
        {
          "output_type": "display_data",
          "data": {
            "text/plain": [
              "<IPython.core.display.HTML object>"
            ],
            "text/html": [
              "<span class=\"tex2jax_ignore\"><div class=\"entities\" style=\"line-height: 2.5; direction: ltr\">al supermercato la \n",
              "<mark class=\"entity\" style=\"background: #ddd; padding: 0.45em 0.6em; margin: 0 0.25em; line-height: 1; border-radius: 0.35em;\">\n",
              "    pesca\n",
              "    <span style=\"font-size: 0.8em; font-weight: bold; line-height: 1; border-radius: 0.35em; vertical-align: middle; margin-left: 0.5rem\">frutto</span>\n",
              "</mark>\n",
              " costa meno delle esche da pesca</div></span>"
            ]
          },
          "metadata": {}
        }
      ]
    },
    {
      "cell_type": "code",
      "source": [
        "tests = [\n",
        "    \"Dopo una lunga giornata di pesca al lago, ho gustato una dolce pesca fresca.\",\n",
        "    \"Porto sempre una pesca con me quando vado a pesca per avere uno spuntino sano.\",\n",
        "    \"Mentre aspettavo che il pesce abboccasse nella mia sessione di pesca, ho mangiato una pesca succosa.\",\n",
        "    \"La mia merenda preferita durante le gare di pesca è una pesca matura.\",\n",
        "    \"Ho preso il mio brevetto di pesca e poi ho festeggiato con una pesca dolcissima.\",\n",
        "    \"Mentre mio padre era impegnato nella pesca, io mi godevo una pesca sotto l'ombrellone.\",\n",
        "    \"Durante la pausa dalla pesca, mi sono rinfrescato con una pesca deliziosa.\",\n",
        "    \"Il mio picnic perfetto include una pesca matura e una canna da pesca.\",\n",
        "    \"Tra una battuta di pesca e l'altra, ho assaporato una pesca appena raccolta.\",\n",
        "    \"La pesca sportiva richiede pazienza, così come aspettare che una pesca maturi.\"\n",
        "]\n",
        "\n",
        "for test in tests:\n",
        "    doc = nlp1(test)\n",
        "    spacy.displacy.render(doc, style=\"ent\")"
      ],
      "metadata": {
        "colab": {
          "base_uri": "https://localhost:8080/",
          "height": 367
        },
        "id": "773kkl23MCFa",
        "outputId": "77f1a170-b3e6-45bf-94a8-24f4e8bddcc4"
      },
      "id": "773kkl23MCFa",
      "execution_count": null,
      "outputs": [
        {
          "output_type": "display_data",
          "data": {
            "text/plain": [
              "<IPython.core.display.HTML object>"
            ],
            "text/html": [
              "<span class=\"tex2jax_ignore\"><div class=\"entities\" style=\"line-height: 2.5; direction: ltr\">Dopo una lunga giornata di \n",
              "<mark class=\"entity\" style=\"background: #ddd; padding: 0.45em 0.6em; margin: 0 0.25em; line-height: 1; border-radius: 0.35em;\">\n",
              "    pesca\n",
              "    <span style=\"font-size: 0.8em; font-weight: bold; line-height: 1; border-radius: 0.35em; vertical-align: middle; margin-left: 0.5rem\">sport</span>\n",
              "</mark>\n",
              " al lago, ho gustato una dolce \n",
              "<mark class=\"entity\" style=\"background: #ddd; padding: 0.45em 0.6em; margin: 0 0.25em; line-height: 1; border-radius: 0.35em;\">\n",
              "    pesca\n",
              "    <span style=\"font-size: 0.8em; font-weight: bold; line-height: 1; border-radius: 0.35em; vertical-align: middle; margin-left: 0.5rem\">frutto</span>\n",
              "</mark>\n",
              " fresca.</div></span>"
            ]
          },
          "metadata": {}
        },
        {
          "output_type": "display_data",
          "data": {
            "text/plain": [
              "<IPython.core.display.HTML object>"
            ],
            "text/html": [
              "<span class=\"tex2jax_ignore\"><div class=\"entities\" style=\"line-height: 2.5; direction: ltr\">Porto sempre una \n",
              "<mark class=\"entity\" style=\"background: #ddd; padding: 0.45em 0.6em; margin: 0 0.25em; line-height: 1; border-radius: 0.35em;\">\n",
              "    pesca\n",
              "    <span style=\"font-size: 0.8em; font-weight: bold; line-height: 1; border-radius: 0.35em; vertical-align: middle; margin-left: 0.5rem\">frutto</span>\n",
              "</mark>\n",
              " con me quando vado a \n",
              "<mark class=\"entity\" style=\"background: #ddd; padding: 0.45em 0.6em; margin: 0 0.25em; line-height: 1; border-radius: 0.35em;\">\n",
              "    pesca\n",
              "    <span style=\"font-size: 0.8em; font-weight: bold; line-height: 1; border-radius: 0.35em; vertical-align: middle; margin-left: 0.5rem\">frutto</span>\n",
              "</mark>\n",
              " per avere uno spuntino sano.</div></span>"
            ]
          },
          "metadata": {}
        },
        {
          "output_type": "display_data",
          "data": {
            "text/plain": [
              "<IPython.core.display.HTML object>"
            ],
            "text/html": [
              "<span class=\"tex2jax_ignore\"><div class=\"entities\" style=\"line-height: 2.5; direction: ltr\">Mentre aspettavo che il pesce abboccasse nella mia sessione di \n",
              "<mark class=\"entity\" style=\"background: #ddd; padding: 0.45em 0.6em; margin: 0 0.25em; line-height: 1; border-radius: 0.35em;\">\n",
              "    pesca\n",
              "    <span style=\"font-size: 0.8em; font-weight: bold; line-height: 1; border-radius: 0.35em; vertical-align: middle; margin-left: 0.5rem\">sport</span>\n",
              "</mark>\n",
              ", ho mangiato una \n",
              "<mark class=\"entity\" style=\"background: #ddd; padding: 0.45em 0.6em; margin: 0 0.25em; line-height: 1; border-radius: 0.35em;\">\n",
              "    pesca\n",
              "    <span style=\"font-size: 0.8em; font-weight: bold; line-height: 1; border-radius: 0.35em; vertical-align: middle; margin-left: 0.5rem\">frutto</span>\n",
              "</mark>\n",
              " succosa.</div></span>"
            ]
          },
          "metadata": {}
        },
        {
          "output_type": "display_data",
          "data": {
            "text/plain": [
              "<IPython.core.display.HTML object>"
            ],
            "text/html": [
              "<span class=\"tex2jax_ignore\"><div class=\"entities\" style=\"line-height: 2.5; direction: ltr\">La mia merenda preferita durante le gare di \n",
              "<mark class=\"entity\" style=\"background: #ddd; padding: 0.45em 0.6em; margin: 0 0.25em; line-height: 1; border-radius: 0.35em;\">\n",
              "    pesca\n",
              "    <span style=\"font-size: 0.8em; font-weight: bold; line-height: 1; border-radius: 0.35em; vertical-align: middle; margin-left: 0.5rem\">sport</span>\n",
              "</mark>\n",
              " è una \n",
              "<mark class=\"entity\" style=\"background: #ddd; padding: 0.45em 0.6em; margin: 0 0.25em; line-height: 1; border-radius: 0.35em;\">\n",
              "    pesca\n",
              "    <span style=\"font-size: 0.8em; font-weight: bold; line-height: 1; border-radius: 0.35em; vertical-align: middle; margin-left: 0.5rem\">frutto</span>\n",
              "</mark>\n",
              " matura.</div></span>"
            ]
          },
          "metadata": {}
        },
        {
          "output_type": "display_data",
          "data": {
            "text/plain": [
              "<IPython.core.display.HTML object>"
            ],
            "text/html": [
              "<span class=\"tex2jax_ignore\"><div class=\"entities\" style=\"line-height: 2.5; direction: ltr\">Ho preso il mio brevetto di \n",
              "<mark class=\"entity\" style=\"background: #ddd; padding: 0.45em 0.6em; margin: 0 0.25em; line-height: 1; border-radius: 0.35em;\">\n",
              "    pesca\n",
              "    <span style=\"font-size: 0.8em; font-weight: bold; line-height: 1; border-radius: 0.35em; vertical-align: middle; margin-left: 0.5rem\">sport</span>\n",
              "</mark>\n",
              " e poi ho festeggiato con una \n",
              "<mark class=\"entity\" style=\"background: #ddd; padding: 0.45em 0.6em; margin: 0 0.25em; line-height: 1; border-radius: 0.35em;\">\n",
              "    pesca\n",
              "    <span style=\"font-size: 0.8em; font-weight: bold; line-height: 1; border-radius: 0.35em; vertical-align: middle; margin-left: 0.5rem\">frutto</span>\n",
              "</mark>\n",
              " dolcissima.</div></span>"
            ]
          },
          "metadata": {}
        },
        {
          "output_type": "display_data",
          "data": {
            "text/plain": [
              "<IPython.core.display.HTML object>"
            ],
            "text/html": [
              "<span class=\"tex2jax_ignore\"><div class=\"entities\" style=\"line-height: 2.5; direction: ltr\">Mentre mio padre era impegnato nella \n",
              "<mark class=\"entity\" style=\"background: #ddd; padding: 0.45em 0.6em; margin: 0 0.25em; line-height: 1; border-radius: 0.35em;\">\n",
              "    pesca\n",
              "    <span style=\"font-size: 0.8em; font-weight: bold; line-height: 1; border-radius: 0.35em; vertical-align: middle; margin-left: 0.5rem\">sport</span>\n",
              "</mark>\n",
              ", io mi godevo una \n",
              "<mark class=\"entity\" style=\"background: #ddd; padding: 0.45em 0.6em; margin: 0 0.25em; line-height: 1; border-radius: 0.35em;\">\n",
              "    pesca\n",
              "    <span style=\"font-size: 0.8em; font-weight: bold; line-height: 1; border-radius: 0.35em; vertical-align: middle; margin-left: 0.5rem\">frutto</span>\n",
              "</mark>\n",
              " sotto l'ombrellone.</div></span>"
            ]
          },
          "metadata": {}
        },
        {
          "output_type": "display_data",
          "data": {
            "text/plain": [
              "<IPython.core.display.HTML object>"
            ],
            "text/html": [
              "<span class=\"tex2jax_ignore\"><div class=\"entities\" style=\"line-height: 2.5; direction: ltr\">Durante la pausa dalla \n",
              "<mark class=\"entity\" style=\"background: #ddd; padding: 0.45em 0.6em; margin: 0 0.25em; line-height: 1; border-radius: 0.35em;\">\n",
              "    pesca\n",
              "    <span style=\"font-size: 0.8em; font-weight: bold; line-height: 1; border-radius: 0.35em; vertical-align: middle; margin-left: 0.5rem\">sport</span>\n",
              "</mark>\n",
              ", mi sono rinfrescato con una \n",
              "<mark class=\"entity\" style=\"background: #ddd; padding: 0.45em 0.6em; margin: 0 0.25em; line-height: 1; border-radius: 0.35em;\">\n",
              "    pesca\n",
              "    <span style=\"font-size: 0.8em; font-weight: bold; line-height: 1; border-radius: 0.35em; vertical-align: middle; margin-left: 0.5rem\">frutto</span>\n",
              "</mark>\n",
              " deliziosa.</div></span>"
            ]
          },
          "metadata": {}
        },
        {
          "output_type": "display_data",
          "data": {
            "text/plain": [
              "<IPython.core.display.HTML object>"
            ],
            "text/html": [
              "<span class=\"tex2jax_ignore\"><div class=\"entities\" style=\"line-height: 2.5; direction: ltr\">Il mio picnic perfetto include una \n",
              "<mark class=\"entity\" style=\"background: #ddd; padding: 0.45em 0.6em; margin: 0 0.25em; line-height: 1; border-radius: 0.35em;\">\n",
              "    pesca\n",
              "    <span style=\"font-size: 0.8em; font-weight: bold; line-height: 1; border-radius: 0.35em; vertical-align: middle; margin-left: 0.5rem\">frutto</span>\n",
              "</mark>\n",
              " matura e una canna da \n",
              "<mark class=\"entity\" style=\"background: #ddd; padding: 0.45em 0.6em; margin: 0 0.25em; line-height: 1; border-radius: 0.35em;\">\n",
              "    pesca\n",
              "    <span style=\"font-size: 0.8em; font-weight: bold; line-height: 1; border-radius: 0.35em; vertical-align: middle; margin-left: 0.5rem\">sport</span>\n",
              "</mark>\n",
              ".</div></span>"
            ]
          },
          "metadata": {}
        },
        {
          "output_type": "display_data",
          "data": {
            "text/plain": [
              "<IPython.core.display.HTML object>"
            ],
            "text/html": [
              "<span class=\"tex2jax_ignore\"><div class=\"entities\" style=\"line-height: 2.5; direction: ltr\">Tra una battuta di \n",
              "<mark class=\"entity\" style=\"background: #ddd; padding: 0.45em 0.6em; margin: 0 0.25em; line-height: 1; border-radius: 0.35em;\">\n",
              "    pesca\n",
              "    <span style=\"font-size: 0.8em; font-weight: bold; line-height: 1; border-radius: 0.35em; vertical-align: middle; margin-left: 0.5rem\">sport</span>\n",
              "</mark>\n",
              " e l'altra, ho assaporato una pesca appena raccolta.</div></span>"
            ]
          },
          "metadata": {}
        },
        {
          "output_type": "display_data",
          "data": {
            "text/plain": [
              "<IPython.core.display.HTML object>"
            ],
            "text/html": [
              "<span class=\"tex2jax_ignore\"><div class=\"entities\" style=\"line-height: 2.5; direction: ltr\">La \n",
              "<mark class=\"entity\" style=\"background: #ddd; padding: 0.45em 0.6em; margin: 0 0.25em; line-height: 1; border-radius: 0.35em;\">\n",
              "    pesca\n",
              "    <span style=\"font-size: 0.8em; font-weight: bold; line-height: 1; border-radius: 0.35em; vertical-align: middle; margin-left: 0.5rem\">sport</span>\n",
              "</mark>\n",
              " sportiva richiede pazienza, così come aspettare che una \n",
              "<mark class=\"entity\" style=\"background: #ddd; padding: 0.45em 0.6em; margin: 0 0.25em; line-height: 1; border-radius: 0.35em;\">\n",
              "    pesca\n",
              "    <span style=\"font-size: 0.8em; font-weight: bold; line-height: 1; border-radius: 0.35em; vertical-align: middle; margin-left: 0.5rem\">frutto</span>\n",
              "</mark>\n",
              " maturi.</div></span>"
            ]
          },
          "metadata": {}
        }
      ]
    }
  ],
  "metadata": {
    "colab": {
      "provenance": [],
      "gpuType": "T4"
    },
    "kernelspec": {
      "display_name": "Python 3",
      "name": "python3"
    },
    "language_info": {
      "codemirror_mode": {
        "name": "ipython",
        "version": 3
      },
      "file_extension": ".py",
      "mimetype": "text/x-python",
      "name": "python",
      "nbconvert_exporter": "python",
      "pygments_lexer": "ipython3",
      "version": "3.6.8"
    },
    "accelerator": "GPU"
  },
  "nbformat": 4,
  "nbformat_minor": 5
}